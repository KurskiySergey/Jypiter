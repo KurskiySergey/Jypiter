{
 "cells": [
  {
   "cell_type": "markdown",
   "id": "81e3053d-83b7-4a4b-87d6-50e893d9d6d3",
   "metadata": {},
   "source": [
    "Набор функций  $[f_{1}, ... ,f_{n}] $ линейно зависим <=> $ \\sum \\limits_{i=1}^{n} \\alpha_{i}f_{i} = 0, \\alpha_{i} \\not= 0, \\forall x \\in \\mathbb{R} $,\n",
    "\n",
    "Иначе $ f_{1} = - {\\sum \\limits_{i=2}^{n} \\beta_{i} f_{i}}, \\beta_{i} = {\\alpha_{i} \\over \\alpha_{1}} $ ,\n",
    "\n",
    "Можно составить линейную систему уравнений:,\n",
    "\n",
    "$$ \\overrightarrow{c} = A * \\overrightarrow{x}, c_{i} = f_{1}(x_{i}), x_{i} = \\beta_{i} $$,\n",
    "\n",
    "где решение системы есть набор коэффициентов показывающий линейную зависимость.\n",
    "Если решения нету или один из коэффициентов равен 0 => набор функций линейно независим"
   ]
  },
  {
   "cell_type": "markdown",
   "id": "a77d9b0d-6949-4dbc-ba43-15404cb9a190",
   "metadata": {},
   "source": [
    "__1.__ Исследовать на линейную зависимость:\n",
    "\n",
    "$$f_{1}(x)=e^{x}, f_{2}(x)=1, f_{3}(x)=x+1, f_{4}(x)=x-e^{x}.$$\n"
   ]
  },
  {
   "cell_type": "code",
   "execution_count": 394,
   "id": "7599b813-e95e-48c9-8457-5d165fe9c3a8",
   "metadata": {},
   "outputs": [],
   "source": [
    "import numpy as np\n",
    "from collections import Counter\n",
    "import json\n",
    "\n",
    "def lindep(functions_list: list, start_x=0):\n",
    "    dim = len(functions_list)\n",
    "    used_dim = dim - 1\n",
    "    \n",
    "    c = np.asarray([functions_list[0](x) for x in range(start_x, start_x + used_dim)])\n",
    "    data_array = np.asarray([[-function(x) for function in functions_list[1:]] for x in range(start_x, start_x + used_dim)])\n",
    "    try:\n",
    "        x = np.linalg.solve(data_array, c)\n",
    "        x = np.insert(x, 0, 1)\n",
    "    except np.linalg.LinAlgError:\n",
    "        x = None\n",
    "    return x\n",
    "\n",
    "def is_lindep(functions_list, start_x = 0, count=2, step=10):\n",
    "    cur_x = start_x\n",
    "    result = []\n",
    "    lindep_res = True\n",
    "    result_solution = np.zeros(len(functions_list))\n",
    "    prev_solution = None\n",
    "    while count != 0:\n",
    "        solution = lindep(functions_list=functions_list, start_x=cur_x)\n",
    "        if prev_solution is None:\n",
    "            prev_solution = solution\n",
    "        else:\n",
    "            if abs((solution - prev_solution).max()) < 0.05:\n",
    "                solution = prev_solution\n",
    "            else:\n",
    "                prev_solution = solution\n",
    "        result.append(json.dumps(list(solution)))\n",
    "        cur_x += step\n",
    "        count -= 1\n",
    "    counter = Counter(result)\n",
    "    if len(counter.keys()) == 1:\n",
    "        for key in counter.keys():\n",
    "            result_solution = np.asarray(json.loads(key))\n",
    "            if np.all(result_solution==0):\n",
    "                lindep_res = False\n",
    "            \n",
    "    else:\n",
    "        lindep_res = False\n",
    "        \n",
    "    return lindep_res, result_solution, counter"
   ]
  },
  {
   "cell_type": "code",
   "execution_count": 395,
   "id": "67cbcf10-b338-42c1-abf5-37300d25d461",
   "metadata": {},
   "outputs": [],
   "source": [
    "def f1(x):\n",
    "    return np.exp(x)\n",
    "\n",
    "def f2(x):\n",
    "    return 1\n",
    "\n",
    "def f3(x):\n",
    "    return x+1\n",
    "\n",
    "def f4(x):\n",
    "    return x - np.exp(x)"
   ]
  },
  {
   "cell_type": "code",
   "execution_count": 396,
   "id": "d5672035-4afa-49eb-910f-dcb62f018be1",
   "metadata": {},
   "outputs": [],
   "source": [
    "functions_list = [f1, f2, f3, f4]\n",
    "lindep_res, solution, counter = is_lindep(functions_list=functions_list, start_x=0)"
   ]
  },
  {
   "cell_type": "code",
   "execution_count": 397,
   "id": "aeaf1f72-7b71-4ee8-8b3e-baf9566bc729",
   "metadata": {},
   "outputs": [
    {
     "data": {
      "text/plain": [
       "(True, array([ 1.,  1., -1.,  1.]))"
      ]
     },
     "execution_count": 397,
     "metadata": {},
     "output_type": "execute_result"
    }
   ],
   "source": [
    "lindep_res, solution"
   ]
  },
  {
   "cell_type": "markdown",
   "id": "9dff9042-118e-445e-b4aa-364ac1ddbefa",
   "metadata": {},
   "source": [
    "Решение одинаково для разных x => линейно зависимы"
   ]
  },
  {
   "cell_type": "markdown",
   "id": "fd83e9e4-c711-43af-a60a-97042417979f",
   "metadata": {},
   "source": [
    "Проверка:\n",
    "\n",
    "$ 1 * f1 + 1 * f2 + (-1) * f3 + 1 * f4 = e^{x} + 1 - (x + 1) + x - e^{x} = 0 , \\forall x \\in \\mathbb{R}$"
   ]
  },
  {
   "cell_type": "markdown",
   "id": "ac430777-8971-4faa-abb0-0188649015f8",
   "metadata": {},
   "source": [
    "__2.__ Исследовать на линейную зависимость:\n",
    "$$f_{1}(x)=2, f_{2}(x)=x, f_{3}(x)=x^{2}, f_{4}(x)=(x+1)^{2}$$"
   ]
  },
  {
   "cell_type": "code",
   "execution_count": 398,
   "id": "5048d0d0-f887-403e-8319-9bdb51b0b606",
   "metadata": {},
   "outputs": [],
   "source": [
    "def f1(x):\n",
    "    return 2\n",
    "\n",
    "def f2(x):\n",
    "    return x\n",
    "\n",
    "def f3(x):\n",
    "    return x ** 2\n",
    "\n",
    "def f4(x):\n",
    "    return (x+1) ** 2"
   ]
  },
  {
   "cell_type": "code",
   "execution_count": 399,
   "id": "b9cbeee2-ca1b-4eb7-a0b9-665cb1043ad8",
   "metadata": {},
   "outputs": [],
   "source": [
    "functions_list = [f1, f2, f3, f4]\n",
    "lindep_res, solution, counter = is_lindep(functions_list=functions_list, start_x=10, step=10)"
   ]
  },
  {
   "cell_type": "code",
   "execution_count": 401,
   "id": "19d50882-a116-433e-848d-da26dc2a43a0",
   "metadata": {},
   "outputs": [
    {
     "data": {
      "text/plain": [
       "(True, array([ 1.,  4.,  2., -2.]))"
      ]
     },
     "execution_count": 401,
     "metadata": {},
     "output_type": "execute_result"
    }
   ],
   "source": [
    "lindep_res, solution"
   ]
  },
  {
   "cell_type": "markdown",
   "id": "4c1c5dd6-bd65-42d0-a8f7-c7a15585c7be",
   "metadata": {},
   "source": [
    "Решения одинаковы для разных x"
   ]
  },
  {
   "cell_type": "markdown",
   "id": "1679cee4-ac6d-4561-b926-0549c492d20c",
   "metadata": {},
   "source": [
    "Проверка:\n",
    "\n",
    "$ 1 * f1 + 4 * f2 + 2 * f3 - 2 * f4 = 2 + 4 * x + 2 * x^{2} - 2 * (x+1)^{2} = 2 + 4x + 2x^{2} - 2x^{2} - 4x - 2 = 0, \\forall x \\in \\mathbb{R}$"
   ]
  },
  {
   "cell_type": "markdown",
   "id": "0d37e4d3-1727-457d-a150-c0528d1f2368",
   "metadata": {},
   "source": [
    "Любое преобразование системы координат можно представить в вииде сложения трех независимых операций: сдвига, поворота и масштабирования.\n",
    "\n",
    "Масштабирование определяется как $ \\overrightarrow{x} = k*\\overrightarrow{x_{0}} $\n",
    "\n",
    "Вектор сдвига определяется $ \\overrightarrow{l} = \\overrightarrow{x} - \\overrightarrow{x_{0}} $. И зависит только от выбора исходной точки отсчета. По умолчанию можно считать его нулем.\n",
    "\n",
    "А поворот, математически можно представить в виде матрицы поворота $ R_{\\phi}$.\n",
    "\n",
    "Таким образом $ \\overrightarrow{x} = R_{\\phi} * \\overrightarrow{x_{0}} $\n",
    "\n",
    "В конечном итоге $ \\overrightarrow{x} = \\overrightarrow{l} +k * R_{\\phi} * \\overrightarrow{x_{0}} $\n",
    "\n",
    "В многомерном пространстве матрица поворота может быть определена через независимые повороты вокруг базисных векторов => \n",
    "\n",
    "$ R_{...\\alpha_{i}...} = R_{1}(\\alpha_{1})*R_{2}(\\alpha_{2})*R_{3}(\\alpha_{3})*...*R_{n}(\\alpha_{n}) , \\forall x \\in \\mathbb{R}^n $\n",
    "\n",
    "Аналогичные операции можно проводить и с функцианальным базисом { $ f1(x), ..., fn(x) $ } $ \\in \\mathbb{R}^3[x] $"
   ]
  },
  {
   "cell_type": "code",
   "execution_count": 420,
   "id": "f7c9e4a0-5ae5-4d5a-bd6e-a2287476f278",
   "metadata": {},
   "outputs": [],
   "source": [
    "class CoordSystem:\n",
    "    def __init__(self, dim = 2, base: list=None):\n",
    "        self.dim = dim\n",
    "        if base is None:\n",
    "            self.base = [[(lambda x: 0) if i != d else (lambda x: 1) for i in range(dim)] for d in range(dim)]\n",
    "        else:\n",
    "            self.base = self.__get_func_base(base)\n",
    "        self.ch_base = self.base\n",
    "        self.R = np.eye(self.dim)\n",
    "        self.l = np.zeros((self.dim,))\n",
    "        self.k = np.ones(self.dim)\n",
    "        self.start_x = 0\n",
    "            \n",
    "    def change_base(self, new_base: list = None, zero_point: list=0, start_x = 0):\n",
    "        self.start_x = start_x\n",
    "        if zero_point != 0:\n",
    "            self.l = np.asarray(zero_point)\n",
    "        else:\n",
    "            self.l = np.zeros(self.dim)\n",
    "        self.k = np.ones(self.dim)\n",
    "        func_base = self.__get_func_base(new_base)\n",
    "        self.ch_base = func_base\n",
    "        self.__find_rotate(func_base)\n",
    "        self.__find_k(func_base)\n",
    "    \n",
    "    def get_ch_coord(self, x):\n",
    "        x_kr = self.__get_rotate_coord(x)\n",
    "        x_new = x_kr + self.l\n",
    "        return x_new\n",
    "    \n",
    "    def func_reverse(self, x):\n",
    "        x_r = []\n",
    "        for i, x_i in enumerate(x):\n",
    "            func_base_i = self.ch_base[i][i]\n",
    "            i_data = func_base_i(self.start_x) / self.base[i][i](self.start_x)\n",
    "            x_r.append(x_i*i_data)\n",
    "        return np.asarray(x_r)\n",
    "    \n",
    "    def __get_rotate_coord(self, x):\n",
    "        x = np.asarray(x)\n",
    "        x_r = np.dot(self.R, x)\n",
    "        x_kr = self.k * x_r\n",
    "        \n",
    "        return x_kr\n",
    "    \n",
    "    def __get_func_base(self, base_list:list = None):\n",
    "        func_base = []\n",
    "        if len(base_list) != self.dim:\n",
    "            print(\"not equal dimentions\")\n",
    "            raise np.linalg.LinAlgError\n",
    "        else:\n",
    "            for i, n_b in enumerate(base_list):\n",
    "                if isinstance(n_b, int) or isinstance(n_b, float):\n",
    "                    func_base.append([(lambda x: 0) if d != i else (lambda x, current_value=n_b: current_value) for d in range(self.dim)])\n",
    "                elif isinstance(n_b, list):\n",
    "                    f_b = []\n",
    "                    for j, b in enumerate(n_b):\n",
    "                        if isinstance(b, int) or isinstance(b, float):\n",
    "                            f_b.append(lambda x, current_value=b: current_value)\n",
    "                        else:\n",
    "                            f_b.append(b)\n",
    "                    func_base.append(f_b)\n",
    "                else:\n",
    "                    func_base.append([(lambda x: 0) if d != i else n_b for d in range(self.dim)])\n",
    "        \n",
    "        return func_base\n",
    "    \n",
    "    def __find_k(self, func_base):\n",
    "        new_base_result = self.__get_base_result(func_base)\n",
    "        base_result = self.__get_base_result(self.base)\n",
    "        \n",
    "        for i in range(self.dim):\n",
    "            self.k[i] = base_result[i][i] / (self.__get_rotate_coord(new_base_result[i])[i])\n",
    "        \n",
    "    \n",
    "    def __get_base_data(self, base, x):\n",
    "        result = [[b[i](x) for i in range(self.dim)] for b in base]\n",
    "        return result\n",
    "    \n",
    "    def __get_base_result(self, base):\n",
    "        # for all x\n",
    "        x = self.start_x\n",
    "        count = 100\n",
    "        while count != 0:\n",
    "            try:\n",
    "                new_base_result = self.__get_base_data(base, x)\n",
    "                break\n",
    "            except Exception:\n",
    "                x += 1\n",
    "                count -= 1\n",
    "        if count == 0:\n",
    "            print(\"can not find functional solution\")\n",
    "            raise np.linalg.LinAlgError\n",
    "            \n",
    "        return new_base_result\n",
    "    \n",
    "    def __find_2d_rotation(self, new_data, data):\n",
    "        A = np.asarray([[data[0], -data[1]],[data[1], data[0]]])\n",
    "        y = np.asarray(new_data)\n",
    "        x = np.linalg.solve(A, y)\n",
    "        return x, 1\n",
    "    \n",
    "    def __get_2d_R_matrix(self, r_data):\n",
    "        return np.asarray([[r_data[0], -r_data[1]],[r_data[1], r_data[0]]])\n",
    "    \n",
    "    def __get_nd_R_matrix(self, r_data, x1, x2):\n",
    "        rotation_nd = np.eye(self.dim)\n",
    "        rotation_nd[x1,x1] = r_data[0]\n",
    "        rotation_nd[x2,x2] = r_data[0]\n",
    "        rotation_nd[x1,x2] = -r_data[1]\n",
    "        rotation_nd[x2,x1] = r_data[1]\n",
    "        \n",
    "        return rotation_nd\n",
    "        \n",
    "    def __find_rotate(self, new_base):\n",
    "            new_base_result = self.__get_base_result(new_base)\n",
    "            base_result = self.__get_base_result(self.base)\n",
    "            print(base_result, new_base_result)\n",
    "                \n",
    "            if self.dim > 2:\n",
    "                rotations = []\n",
    "                for i in range(self.dim):\n",
    "                    for j in range(i+1, self.dim):\n",
    "                        i_data = [0,base_result[i][i]]\n",
    "                        i_base = [new_base_result[j][k] for k in range(self.dim) if k == i or k == j]\n",
    "                        r_data, k = self.__find_2d_rotation(i_data, i_base)\n",
    "                        rotation_i = self.__get_nd_R_matrix(r_data*k, i, j)\n",
    "                        rotations.append(rotation_i)\n",
    "                self.R = np.linalg.multi_dot(rotations)\n",
    "                    \n",
    "            else:\n",
    "                i_data = base_result[0]\n",
    "                i_base = new_base_result[1]\n",
    "                r_data, self.k = self.__find_2d_rotation(i_data, i_base)\n",
    "                self.R = self.__get_2d_R_matrix(r_data)\n",
    "        \n",
    "        "
   ]
  },
  {
   "cell_type": "markdown",
   "id": "5efd93ea-ebc6-4fc9-982d-41122f3f096a",
   "metadata": {},
   "source": [
    "__3.__ Найти координаты вектора $x = (2, 3, 5)\\in \\mathbb{R}^{3}$ в базисе $b_{1}=(0, 0, 10)$, $b_{2}=(2, 0, 0)$, $b_{3}=(0, 1, 0)$."
   ]
  },
  {
   "cell_type": "code",
   "execution_count": 421,
   "id": "fe940b5f-d3d9-4aac-9e8f-2b05b2112396",
   "metadata": {},
   "outputs": [],
   "source": [
    "x = np.asarray([2,3,5])\n",
    "e = np.asarray([1,1,1])\n",
    "b = np.asarray([2,1,10])"
   ]
  },
  {
   "cell_type": "code",
   "execution_count": 422,
   "id": "406cc1ca-1f04-41bc-8dbe-a96f0892cf2e",
   "metadata": {},
   "outputs": [],
   "source": [
    "k = b / e"
   ]
  },
  {
   "cell_type": "code",
   "execution_count": 423,
   "id": "cc3c1c16-fedc-4e9c-850f-a42c2d057e45",
   "metadata": {},
   "outputs": [],
   "source": [
    "x_b = x / k"
   ]
  },
  {
   "cell_type": "code",
   "execution_count": 424,
   "id": "bf7769dc-b649-4cdc-836e-dee64cfed95e",
   "metadata": {},
   "outputs": [
    {
     "data": {
      "text/plain": [
       "array([1. , 3. , 0.5])"
      ]
     },
     "execution_count": 424,
     "metadata": {},
     "output_type": "execute_result"
    }
   ],
   "source": [
    "x_b"
   ]
  },
  {
   "cell_type": "code",
   "execution_count": 425,
   "id": "8fab4136-6a28-42ba-94fb-c93d19ffced5",
   "metadata": {},
   "outputs": [],
   "source": [
    "dim = 3\n",
    "system = CoordSystem(dim = dim)"
   ]
  },
  {
   "cell_type": "code",
   "execution_count": 426,
   "id": "9a49253c-5682-4749-9a4f-9232fdd2ad9a",
   "metadata": {},
   "outputs": [
    {
     "name": "stdout",
     "output_type": "stream",
     "text": [
      "[[1, 0, 0], [0, 1, 0], [0, 0, 1]] [[2, 0, 0], [0, 1, 0], [0, 0, 10]]\n"
     ]
    },
    {
     "data": {
      "text/plain": [
       "(array([0., 0., 0.]),\n",
       " array([[0.1 , 0.  , 0.  ],\n",
       "        [0.  , 0.1 , 0.  ],\n",
       "        [0.  , 0.  , 0.01]]),\n",
       " array([ 5., 10., 10.]))"
      ]
     },
     "execution_count": 426,
     "metadata": {},
     "output_type": "execute_result"
    }
   ],
   "source": [
    "base = (2, 1, 10)\n",
    "system.change_base(base)\n",
    "system.l, system.R, system.k"
   ]
  },
  {
   "cell_type": "code",
   "execution_count": 427,
   "id": "20314e5b-5bf5-44d1-9c27-f8e2fcea3b5e",
   "metadata": {},
   "outputs": [
    {
     "data": {
      "text/plain": [
       "array([1. , 3. , 0.5])"
      ]
     },
     "execution_count": 427,
     "metadata": {},
     "output_type": "execute_result"
    }
   ],
   "source": [
    "x = (2,3,5)\n",
    "system.get_ch_coord(x)"
   ]
  },
  {
   "cell_type": "markdown",
   "id": "01ed184b-77dc-44b2-b1cf-008eafe91ae4",
   "metadata": {},
   "source": [
    "__4.__ Найти координаты вектора $3x^{2}-2x+2\\in\\mathbb{R}^{3}[x]$:\n",
    "\n",
    "а) в базисе $1$, $x$, $x^{2}$;\n",
    "\n",
    "б) в базисе $x^{2}$, $x-1$, $1$."
   ]
  },
  {
   "cell_type": "markdown",
   "id": "a41ddb7a-aefd-4cd2-88d4-5f4b9227ab98",
   "metadata": {},
   "source": [
    "$ 3x^2 - 2x + 2*1 = 3x^2 -2(x-1) + 0*1 $ => a) coord = (3, -2, 2), b) coord = (3, -2, 0) "
   ]
  },
  {
   "cell_type": "markdown",
   "id": "1f2b2744-9bf5-4a92-ad3f-d8296d72c2d1",
   "metadata": {},
   "source": [
    "введем базис для функции { $ x^2, x, 1 $ }"
   ]
  },
  {
   "cell_type": "code",
   "execution_count": 467,
   "id": "2366d68a-f9a5-42a1-86c9-d72077dec46f",
   "metadata": {},
   "outputs": [],
   "source": [
    "base = [lambda x: x**2, lambda x: x, lambda x: 1]\n",
    "base_2 = [lambda x: x**2, lambda x: x-1, lambda x: 1]"
   ]
  },
  {
   "cell_type": "markdown",
   "id": "8f8bbb81-62d9-4b33-b828-bf3aab1b7649",
   "metadata": {},
   "source": [
    "Проверка на линейную зависимость"
   ]
  },
  {
   "cell_type": "code",
   "execution_count": 468,
   "id": "b392cf17-5dea-4d10-8f93-5ce5cd327127",
   "metadata": {},
   "outputs": [],
   "source": [
    "lindep_res_base, solution_base, counter_base = is_lindep(base, start_x=10, step=1)\n",
    "lindep_res_base_2, solution_base_2, counter_base_2 = is_lindep(base_2, start_x=10, step=1)"
   ]
  },
  {
   "cell_type": "code",
   "execution_count": 469,
   "id": "cee69d56-46ea-4105-b215-207a68984365",
   "metadata": {},
   "outputs": [
    {
     "data": {
      "text/plain": [
       "(False, False)"
      ]
     },
     "execution_count": 469,
     "metadata": {},
     "output_type": "execute_result"
    }
   ],
   "source": [
    "lindep_res_base, lindep_res_base_2"
   ]
  },
  {
   "cell_type": "markdown",
   "id": "c1bf2ca5-1c3a-4344-a2c0-7c6b6b412941",
   "metadata": {},
   "source": [
    "Разные решения для разных x => линейно независимы"
   ]
  },
  {
   "cell_type": "code",
   "execution_count": 470,
   "id": "cd8fcf09-7deb-4108-b78a-d125f1c80709",
   "metadata": {},
   "outputs": [],
   "source": [
    "system = CoordSystem(dim=3, base=base)"
   ]
  },
  {
   "cell_type": "code",
   "execution_count": 471,
   "id": "16ce1ea9-450c-47d4-bb61-edde9be0b1db",
   "metadata": {},
   "outputs": [
    {
     "data": {
      "text/plain": [
       "array([ 3., -2.,  2.])"
      ]
     },
     "execution_count": 471,
     "metadata": {},
     "output_type": "execute_result"
    }
   ],
   "source": [
    "search_x = (3, -2, 2)\n",
    "system.get_ch_coord(search_x)"
   ]
  },
  {
   "cell_type": "markdown",
   "id": "acb4b764-d913-414e-8e34-d6be1cb16cc4",
   "metadata": {},
   "source": [
    "До смены системы координат вектор такой же"
   ]
  },
  {
   "cell_type": "code",
   "execution_count": 472,
   "id": "acac0bbc-093c-4afe-b312-9c7687321bac",
   "metadata": {},
   "outputs": [
    {
     "name": "stdout",
     "output_type": "stream",
     "text": [
      "[[1000000, 0, 0], [0, 1000, 0], [0, 0, 1]] [[1000000, 0, 0], [0, 999, 0], [0, 0, 1]]\n"
     ]
    },
    {
     "data": {
      "text/plain": [
       "(array([[1.001001e+09, 0.000000e+00, 0.000000e+00],\n",
       "        [0.000000e+00, 1.001001e+06, 0.000000e+00],\n",
       "        [0.000000e+00, 0.000000e+00, 1.000000e+09]]),\n",
       " array([ 0,  0, -2]),\n",
       " array([9.99e-10, 1.00e-06, 1.00e-09]))"
      ]
     },
     "execution_count": 472,
     "metadata": {},
     "output_type": "execute_result"
    }
   ],
   "source": [
    "system.change_base(new_base=base_2, zero_point=(0,0,-2), start_x=1000)\n",
    "system.R, system.l, system.k"
   ]
  },
  {
   "cell_type": "code",
   "execution_count": 473,
   "id": "1a8a51fd-3a43-4c02-bd4a-7f7ad834d7c1",
   "metadata": {},
   "outputs": [
    {
     "data": {
      "text/plain": [
       "array([ 3.      , -2.002002,  0.      ])"
      ]
     },
     "execution_count": 473,
     "metadata": {},
     "output_type": "execute_result"
    }
   ],
   "source": [
    "system.get_ch_coord(x=search_x)"
   ]
  },
  {
   "cell_type": "markdown",
   "id": "3c69177b-def0-44e0-a0e3-9fb842a18e0e",
   "metadata": {},
   "source": [
    "__1.__ Найти скалярное произведение векторов $x, y \\in \\mathbb{R}$:<br>\n",
    "а) $x=(0,-3, 6),~y=(-4, 7, 9);$<br>\n",
    "б) $x=(7, -4, 0, 1),~y=(-3, 1, 11, 2).$\n"
   ]
  },
  {
   "cell_type": "code",
   "execution_count": 477,
   "id": "b5488679-dc13-4612-b402-fc5a804402fb",
   "metadata": {},
   "outputs": [],
   "source": [
    "def get_scalar(x, y):\n",
    "    return (np.asarray(x) * np.asarray(y)).sum()"
   ]
  },
  {
   "cell_type": "code",
   "execution_count": 478,
   "id": "b84eb5b1-732b-4259-b8b9-c14c53d23b1a",
   "metadata": {},
   "outputs": [
    {
     "data": {
      "text/plain": [
       "33"
      ]
     },
     "execution_count": 478,
     "metadata": {},
     "output_type": "execute_result"
    }
   ],
   "source": [
    "x = (0,-3,6)\n",
    "y = (-4,7,9)\n",
    "get_scalar(x,y)"
   ]
  },
  {
   "cell_type": "code",
   "execution_count": 479,
   "id": "07c779c7-c706-4ed7-946b-dc993619546a",
   "metadata": {},
   "outputs": [
    {
     "data": {
      "text/plain": [
       "-23"
      ]
     },
     "execution_count": 479,
     "metadata": {},
     "output_type": "execute_result"
    }
   ],
   "source": [
    "x = (7,-4,0,1)\n",
    "y = (-3,1,11,2)\n",
    "get_scalar(x,y)"
   ]
  },
  {
   "cell_type": "markdown",
   "id": "dc43a03d-48b2-495d-beb8-808bd571aaf2",
   "metadata": {},
   "source": [
    "__2.__ Найти нормы векторов $(4, 2, 4)$ и $(12, 3, 4)$ и угол между ними.\n"
   ]
  },
  {
   "cell_type": "code",
   "execution_count": 483,
   "id": "9ca202ed-ffc3-4d2d-97fa-13d2da2d4fce",
   "metadata": {},
   "outputs": [],
   "source": [
    "def get_vector_norm(x):\n",
    "    return np.linalg.norm(x)\n",
    "\n",
    "def get_vector_angle(x, y):\n",
    "    x_n = get_vector_norm(x)\n",
    "    y_n = get_vector_norm(y)\n",
    "    scalar = get_scalar(x,y)\n",
    "    angle = np.arccos(scalar / (x_n * y_n)) * 180 / np.pi\n",
    "    \n",
    "    return angle"
   ]
  },
  {
   "cell_type": "code",
   "execution_count": 486,
   "id": "0617feea-1b5e-4d54-92c9-09deafee7b21",
   "metadata": {},
   "outputs": [
    {
     "data": {
      "text/plain": [
       "(6.0, 13.0, 26.176952171666542)"
      ]
     },
     "execution_count": 486,
     "metadata": {},
     "output_type": "execute_result"
    }
   ],
   "source": [
    "x = (4,2,4)\n",
    "y = (12,3,4)\n",
    "get_vector_norm(x), get_vector_norm(y), get_vector_angle(x,y)"
   ]
  },
  {
   "cell_type": "markdown",
   "id": "97706c8f-3a46-422d-8edd-ecee13531bed",
   "metadata": {},
   "source": [
    "__3.__ Будет ли линейное пространство евклидовым, если за скалярное произведение принять:<br>\n",
    "а) произведение длин векторов;<br>\n",
    "б) утроенное обычное скалярное произведение векторов?<br>"
   ]
  },
  {
   "cell_type": "code",
   "execution_count": 520,
   "id": "5a7345bc-286d-4997-b1d2-b7a8949b196b",
   "metadata": {},
   "outputs": [],
   "source": [
    "def check(scalar):\n",
    "    x = np.asarray([1,2,3])\n",
    "    y = np.asarray([2,8,4])\n",
    "    x_1 = np.asarray([3,10,8])\n",
    "    return cond_1(x,y,scalar) and cond_2(x,y,scalar) and cond_3(x, x_1, y, scalar) and cond_4(x, scalar)\n",
    "\n",
    "def cond_1(x, y, scalar):\n",
    "    return scalar(x,y) == scalar(y,x)\n",
    "\n",
    "def cond_2(x,y,scalar):\n",
    "    return scalar(3*x, y) == 3*scalar(x,y)\n",
    "\n",
    "def cond_3(x1, x2, y, scalar):\n",
    "    return scalar(x1 + x2, y) == scalar(x1,y) + scalar(x2,y)\n",
    "\n",
    "def cond_4(x, scalar):\n",
    "    return (scalar(x,x) >= 0) and (scalar(0,0) == 0)"
   ]
  },
  {
   "cell_type": "code",
   "execution_count": 521,
   "id": "2455562b-9fa5-49c9-983d-db2d8940bae5",
   "metadata": {},
   "outputs": [
    {
     "data": {
      "text/plain": [
       "False"
      ]
     },
     "execution_count": 521,
     "metadata": {},
     "output_type": "execute_result"
    }
   ],
   "source": [
    "check(scalar=lambda x, y: get_vector_norm(x) * get_vector_norm(y))"
   ]
  },
  {
   "cell_type": "code",
   "execution_count": 522,
   "id": "3ae9a2c2-4f5d-41ff-ae1b-ca691ddc1c0b",
   "metadata": {},
   "outputs": [
    {
     "data": {
      "text/plain": [
       "True"
      ]
     },
     "execution_count": 522,
     "metadata": {},
     "output_type": "execute_result"
    }
   ],
   "source": [
    "check(scalar=lambda x, y: 3 * get_scalar(x,y))"
   ]
  },
  {
   "cell_type": "markdown",
   "id": "962a03f8-51ad-468a-92c0-066c3211fc67",
   "metadata": {},
   "source": [
    "__4.__ Какие из нижеперечисленных векторов образуют ортонормированный базис в линейном пространстве $\\mathbb{R}^{3}$:<br>\n",
    "а) $(1,0,0),(0,0,1);$ <br>\n",
    "б) $(1/\\sqrt{2},-1/\\sqrt{2},0),(1/\\sqrt{2},1/\\sqrt{2},0), (0,0,1);$<br>\n",
    "в) $(1/2, -1/2, 0), (0, 1/2, 1/2), (0,0,1);$<br>\n",
    "г) $(1,0,0),(0,1,0),(0,0,1)?$ "
   ]
  },
  {
   "cell_type": "code",
   "execution_count": 527,
   "id": "283fd63c-cb84-4df2-9469-20b471d69c2b",
   "metadata": {},
   "outputs": [],
   "source": [
    "def base_check(dim, vectors):\n",
    "    result = False\n",
    "    vectors_norm = []\n",
    "    vector_angles = []\n",
    "    if len(vectors) == dim:\n",
    "        vectors_norm = [get_vector_norm(vector) for vector in vectors]\n",
    "        for i, vector in enumerate(vectors):\n",
    "            for new_vector in vectors[i+1:]:\n",
    "                vector_angles.append(get_vector_angle(vector, new_vector))\n",
    "        if np.all((np.asarray(vectors_norm)) <= 1 & (np.asarray(vectors_norm) >= 0.99)) and np.all(abs(np.asarray(vector_angles))==90):\n",
    "            result = True\n",
    "    return result, vectors_norm, vector_angles\n",
    "    "
   ]
  },
  {
   "cell_type": "code",
   "execution_count": 528,
   "id": "91213578-1075-47dc-af29-229e04beb470",
   "metadata": {},
   "outputs": [
    {
     "name": "stdout",
     "output_type": "stream",
     "text": [
      "(False, [], [])\n",
      "(True, [0.9999999999999999, 0.9999999999999999, 1.0], [90.0, 90.0, 90.0])\n",
      "(False, [0.7071067811865476, 0.7071067811865476, 1.0], [119.99999999999999, 90.0, 45.00000000000001])\n",
      "(True, [1.0, 1.0, 1.0], [90.0, 90.0, 90.0])\n"
     ]
    }
   ],
   "source": [
    "base_0 = [(1,0,0),(0,0,1)]\n",
    "base_1 = [(1/np.sqrt(2), -1/np.sqrt(2),0), (1/np.sqrt(2), 1/np.sqrt(2),0), (0,0,1)]\n",
    "base_2 = [(1/2, -1/2, 0), (0,1/2,1/2), (0,0,1)]\n",
    "base_3 = [(1,0,0), (0,1,0), (0,0,1)]\n",
    "\n",
    "bases = [base_0, base_1, base_2, base_3]\n",
    "\n",
    "for base in bases:\n",
    "    print(base_check(dim=3, vectors=base))"
   ]
  },
  {
   "cell_type": "markdown",
   "id": "ebf52231-1581-4c9c-82d1-666bee09237a",
   "metadata": {},
   "source": [
    "б,г"
   ]
  },
  {
   "cell_type": "code",
   "execution_count": null,
   "id": "c5367ac3-6127-4c2f-8b6d-21d1a3047699",
   "metadata": {},
   "outputs": [],
   "source": []
  }
 ],
 "metadata": {
  "kernelspec": {
   "display_name": "Python 3 (ipykernel)",
   "language": "python",
   "name": "python3"
  },
  "language_info": {
   "codemirror_mode": {
    "name": "ipython",
    "version": 3
   },
   "file_extension": ".py",
   "mimetype": "text/x-python",
   "name": "python",
   "nbconvert_exporter": "python",
   "pygments_lexer": "ipython3",
   "version": "3.7.4"
  }
 },
 "nbformat": 4,
 "nbformat_minor": 5
}
