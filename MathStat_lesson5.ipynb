{
 "cells": [
  {
   "cell_type": "markdown",
   "id": "7b52727d-a5ee-4e0c-be7b-cdde6027b829",
   "metadata": {},
   "source": [
    "Доверительный инервал - это интервал, построенный с помощью случайной выборки из распределения с неизвестным параметром, такой, что он содержит данный параметр с заданной вероятностью.\n",
    "\n",
    "При условии что для выборки Х с нормальным распределением $N(m, \\sigma)$. Математическое ожидание равно m. При n независимых измерениях, критерий дисперсии D(x) = $\\sigma^2 \\over n$\n",
    "\n",
    "По определению t-статистики, величина t = ${<X> - m} \\over \\sqrt{\\sigma^2 \\over n}$. Данная величина имеет нормальное распределение N(0,1).\n",
    "\n",
    "При введении достоверности p = 1 -$\\alpha$ , вероятность нахождения величины t определить как $P(-t_{1-{\\alpha \\over 2}} <= t <= t_{1-{\\alpha \\over 2}}) = 1 - \\alpha$ в силу симметрии. Где t - квантиль нормального распределения\n",
    "\n",
    "Таким образом для заданного значения m получаем доверительный интервал $<X> - t_{1-{\\alpha \\over 2}}  {\\sigma \\over \\sqrt n} \\le m \\le <X> + t_{1-{\\alpha \\over 2}} {\\sigma \\over \\sqrt n} $,\n",
    "\n",
    "при условии что известна $\\sigma$.\n",
    "\n",
    "В случае, если $\\sigma$ неизвестна, вместо нормального распределения можно воспользоваться распределением Стьюдента $t_{1-{\\alpha \\over 2}}(n-1)$"
   ]
  },
  {
   "cell_type": "markdown",
   "id": "e0971290-ec24-4711-befe-869019ce9f64",
   "metadata": {},
   "source": [
    "__1.__ \n",
    "\n",
    "Известно, что генеральная совокупность распределена нормально\n",
    "со средним квадратическим отклонением, равным 16.\n",
    "\n",
    "Найти доверительный интервал для оценки математического ожидания a с надежностью 0.95,\n",
    "если выборочная средняя M = 80, а объем выборки n = 256."
   ]
  },
  {
   "cell_type": "code",
   "execution_count": 89,
   "id": "a53389a3-20dd-4d1b-8f1a-e279621fb962",
   "metadata": {},
   "outputs": [],
   "source": [
    "import numpy as np\n",
    "import scipy.integrate as integrate\n",
    "from scipy import stats"
   ]
  },
  {
   "cell_type": "code",
   "execution_count": 90,
   "id": "5258ce87-cbb8-4759-82cf-f47f587349e3",
   "metadata": {},
   "outputs": [],
   "source": [
    "def norm(x, sigma, a):\n",
    "    A = 1/(sigma * np.sqrt(np.pi * 2))\n",
    "    B = (x-a)**2 / (2 * sigma**2)\n",
    "    \n",
    "    result = A * np.exp(-B)\n",
    "    return result"
   ]
  },
  {
   "cell_type": "code",
   "execution_count": 91,
   "id": "579a9185-172b-425a-be0b-f54fa4475f34",
   "metadata": {},
   "outputs": [],
   "source": [
    "def student(x, n):\n",
    "    a = n - 1\n",
    "    b = n - 2\n",
    "\n",
    "    A = n - 1\n",
    "    B = n - 2\n",
    "    while a > 1 and b > 1:\n",
    "        a -= 2\n",
    "        b -= 2\n",
    "        if a >= 1:\n",
    "            A *= a\n",
    "        if b >= 1:\n",
    "            B *= b\n",
    "    if n % 2 == 0:\n",
    "        result = A / (2 * np.sqrt(n) * B)\n",
    "    else:\n",
    "        result = A / (np.pi * np.sqrt(n) * B)\n",
    "\n",
    "    value = np.math.pow((1 + x ** 2 / n), -(n + 1) / 2)\n",
    "\n",
    "    return result * value\n",
    "        "
   ]
  },
  {
   "cell_type": "code",
   "execution_count": 92,
   "id": "de1142ee-4437-4121-8401-38b8b529e283",
   "metadata": {},
   "outputs": [],
   "source": [
    "def get_quantil(f_x, alpha, e=0.001):\n",
    "    p = alpha\n",
    "    start = -np.inf\n",
    "    if alpha < 0.5:\n",
    "        start_point = -10\n",
    "        end = 0\n",
    "    else:\n",
    "        start_point = 0\n",
    "        end = 10\n",
    "\n",
    "    point = (start_point + end) / 2\n",
    "    while True:\n",
    "        integral = integrate.quad(f_x, start, point)[0]\n",
    "        if abs(integral - p) < e:\n",
    "            break\n",
    "        elif integral > p:\n",
    "            end = point\n",
    "            point = (end + start_point) / 2\n",
    "        elif integral < p:\n",
    "            start_point = point\n",
    "            point = (end + start_point) / 2\n",
    "\n",
    "    return point"
   ]
  },
  {
   "cell_type": "code",
   "execution_count": 93,
   "id": "cc59c806-f86d-4b3f-9ac8-b32e449940f2",
   "metadata": {},
   "outputs": [],
   "source": [
    "def get_interval_value(sigma, quantil, n):\n",
    "    return quantil * sigma / np.sqrt(n)"
   ]
  },
  {
   "cell_type": "markdown",
   "id": "df377a02-3815-4ae0-9121-436f79e95e86",
   "metadata": {},
   "source": [
    "Для нормального распределения можно взять половину значения $\\alpha$"
   ]
  },
  {
   "cell_type": "code",
   "execution_count": 94,
   "id": "16c8ad2c-e5f7-4dfe-a5af-adb6e3d8e391",
   "metadata": {},
   "outputs": [
    {
     "name": "stdout",
     "output_type": "stream",
     "text": [
      "0.025000000000000022\n"
     ]
    }
   ],
   "source": [
    "p = 0.95\n",
    "alpha = 1-p\n",
    "alpha_2 = alpha / 2\n",
    "print(alpha_2)"
   ]
  },
  {
   "cell_type": "code",
   "execution_count": 95,
   "id": "c678411e-e8f2-4ebc-9972-4771fba5de61",
   "metadata": {},
   "outputs": [],
   "source": [
    "# for current alpha can be calculated quantil\n",
    "result = get_quantil(alpha=alpha_2, f_x = lambda x: norm(x, 1, 0))"
   ]
  },
  {
   "cell_type": "code",
   "execution_count": 96,
   "id": "89ed0686-b1f8-4538-9273-7cad70726ea0",
   "metadata": {},
   "outputs": [
    {
     "name": "stdout",
     "output_type": "stream",
     "text": [
      "-1.953125\n"
     ]
    }
   ],
   "source": [
    "print(result)"
   ]
  },
  {
   "cell_type": "markdown",
   "id": "ab18d963-d366-4fd5-9b00-11010cfcb225",
   "metadata": {},
   "source": [
    "$\\sigma$ = 16 , n = 256, $\\bar{X} = 80$"
   ]
  },
  {
   "cell_type": "code",
   "execution_count": 97,
   "id": "c01f393c-edac-411e-b7c7-1482ec13dfc7",
   "metadata": {},
   "outputs": [],
   "source": [
    "M = 80\n",
    "sigma = 16\n",
    "n = 256\n",
    "interval = get_interval_value(sigma=sigma, quantil=abs(result), n=n)\n",
    "left_x = M - interval\n",
    "right_x = M + interval"
   ]
  },
  {
   "cell_type": "code",
   "execution_count": 98,
   "id": "a485bde2-4bd1-4188-867c-9f8b45222bf6",
   "metadata": {},
   "outputs": [
    {
     "name": "stdout",
     "output_type": "stream",
     "text": [
      "78.046875 81.953125\n"
     ]
    }
   ],
   "source": [
    "#Наш доверительный интервал с вероятностью 95%\n",
    "print(left_x, right_x)"
   ]
  },
  {
   "cell_type": "markdown",
   "id": "a77f8ce1-c374-4883-9dd5-8e6db6dc61c7",
   "metadata": {},
   "source": [
    "__2.__\n",
    "В результате 10 независимых измерений некоторой величины X, выполненных с одинаковой точностью,\n",
    "получены опытные данные:\n",
    "\n",
    "6.9, 6.1, 6.2, 6.8, 7.5, 6.3, 6.4, 6.9, 6.7, 6.1\n",
    "\n",
    "Предполагая, что результаты измерений подчинены нормальному закону распределения вероятностей,\n",
    "\n",
    "оценить истинное значение величины X при помощи доверительного интервала, покрывающего это\n",
    "\n",
    "значение с доверительной вероятностью 0,95."
   ]
  },
  {
   "cell_type": "markdown",
   "id": "856ea1b1-85fd-4b97-bfa8-f88c50a6e384",
   "metadata": {},
   "source": [
    "Check quantil for student distribution"
   ]
  },
  {
   "cell_type": "code",
   "execution_count": 99,
   "id": "82d385de-87e7-4e3f-b1d2-4cff9ed2429a",
   "metadata": {},
   "outputs": [],
   "source": [
    "alpha_2 = 0.025\n",
    "p = 1 - alpha_2\n",
    "k = 9"
   ]
  },
  {
   "cell_type": "code",
   "execution_count": 100,
   "id": "8d4d3169-fcf2-4906-aefe-7e8900f488df",
   "metadata": {},
   "outputs": [],
   "source": [
    "result = get_quantil(alpha=p, f_x = lambda x: student(x, k))"
   ]
  },
  {
   "cell_type": "code",
   "execution_count": 101,
   "id": "8fed50f5-db3c-431e-8a50-ae26a1c9583e",
   "metadata": {},
   "outputs": [
    {
     "name": "stdout",
     "output_type": "stream",
     "text": [
      "2.265625 ,from table: 2.262\n"
     ]
    }
   ],
   "source": [
    "print(result, f\",from table: {2.262}\")"
   ]
  },
  {
   "cell_type": "markdown",
   "id": "b40a9925-a19e-4f69-80b5-3223226a5ee1",
   "metadata": {},
   "source": [
    "Так как $\\sigma$ неизвестна то вместо нее используем несмещенную оценку дисперии и вместо нормального распределения используем квантили распределения стьдента"
   ]
  },
  {
   "cell_type": "code",
   "execution_count": 107,
   "id": "6718617d-8210-4bf7-976f-25be83cc47b2",
   "metadata": {},
   "outputs": [],
   "source": [
    "data = np.asarray([6.9, 6.1, 6.2, 6.8, 7.5, 6.3, 6.4, 6.9, 6.7, 6.1])\n",
    "n = 10"
   ]
  },
  {
   "cell_type": "code",
   "execution_count": 108,
   "id": "d8f04027-2525-4869-9d95-70eb21e52ca5",
   "metadata": {},
   "outputs": [],
   "source": [
    "X_avr = stats.tmean(data)\n",
    "stddev = stats.tstd(data)"
   ]
  },
  {
   "cell_type": "code",
   "execution_count": 109,
   "id": "832ef40d-a03c-4422-8054-d45c385148f2",
   "metadata": {},
   "outputs": [
    {
     "name": "stdout",
     "output_type": "stream",
     "text": [
      "6.590000000000001 0.4508017549014448\n"
     ]
    }
   ],
   "source": [
    "print(X_avr, stddev) "
   ]
  },
  {
   "cell_type": "code",
   "execution_count": 110,
   "id": "2d8286ab-63e9-4e6a-8550-54c244e024e7",
   "metadata": {},
   "outputs": [],
   "source": [
    "p = 0.95"
   ]
  },
  {
   "cell_type": "markdown",
   "id": "d62a91ca-42e6-4c73-851e-757d19102679",
   "metadata": {},
   "source": [
    "Для этого значения вычислим квантиль стьюдента"
   ]
  },
  {
   "cell_type": "code",
   "execution_count": 111,
   "id": "6f13865a-d94d-4f68-adde-2b28a38d5957",
   "metadata": {},
   "outputs": [],
   "source": [
    "st_quantil = get_quantil(alpha=p, f_x = lambda x: student(x, n=n-1))"
   ]
  },
  {
   "cell_type": "code",
   "execution_count": 112,
   "id": "663f188a-40fc-4a82-ae62-c6ba60a78e5a",
   "metadata": {},
   "outputs": [
    {
     "name": "stdout",
     "output_type": "stream",
     "text": [
      "1.8359375\n"
     ]
    }
   ],
   "source": [
    "print(st_quantil)"
   ]
  },
  {
   "cell_type": "code",
   "execution_count": 113,
   "id": "df2596d7-8585-4589-8f86-68dc42361a35",
   "metadata": {},
   "outputs": [],
   "source": [
    "interval = get_interval_value(sigma=stddev, n=n, quantil=abs(st_quantil))"
   ]
  },
  {
   "cell_type": "code",
   "execution_count": 114,
   "id": "ec915460-7ef1-4667-a81b-ac5fe48154ee",
   "metadata": {},
   "outputs": [],
   "source": [
    "left_x = X_avr - interval\n",
    "right_x = X_avr + interval"
   ]
  },
  {
   "cell_type": "code",
   "execution_count": 116,
   "id": "e5f1af1b-0594-4df8-984c-79bc0393519e",
   "metadata": {},
   "outputs": [
    {
     "name": "stdout",
     "output_type": "stream",
     "text": [
      "6.328276035240593 6.851723964759408\n"
     ]
    }
   ],
   "source": [
    "#Наш доверительный интервал с вероятностью 95%\n",
    "print(left_x, right_x)"
   ]
  },
  {
   "cell_type": "markdown",
   "id": "3676e277-8832-45c0-9c26-0d86ee1dca23",
   "metadata": {},
   "source": [
    "__3.__\n",
    "\n",
    "Утверждается, что шарики для подшипников, изготовленные автоматическим станком, имеют средний диаметр 17 мм.\n",
    "\n",
    "Используя односторонний критерий с α=0,05, проверить эту гипотезу, если в выборке из n=100 шариков средний диаметр\n",
    "\n",
    "оказался равным 17.5 мм, а дисперсия известна и равна 4 мм."
   ]
  },
  {
   "cell_type": "code",
   "execution_count": 117,
   "id": "7aa7a67b-a436-4041-b857-c74497a3a5d5",
   "metadata": {},
   "outputs": [],
   "source": [
    "alpha = 0.05\n",
    "p = 1 - alpha\n",
    "d_0 = 17\n",
    "d_1 = 17.5\n",
    "D_x = 4\n",
    "n = 100"
   ]
  },
  {
   "cell_type": "code",
   "execution_count": 118,
   "id": "4bdd6c63-77b2-4f1a-9f20-411a262844c9",
   "metadata": {},
   "outputs": [],
   "source": [
    "sigma = np.sqrt(D_x)"
   ]
  },
  {
   "cell_type": "markdown",
   "id": "fcf0552d-22b4-42e4-bf98-b56c8b50d202",
   "metadata": {},
   "source": [
    "Дисперсия известна значит можно использовать нормальное распределение"
   ]
  },
  {
   "cell_type": "markdown",
   "id": "a8957931-25e3-4ba4-92d6-9a082a1688f2",
   "metadata": {},
   "source": [
    "По определению случайной величины t\n",
    "\n",
    "$t = {{\\bar{X} - M(x)} \\over {\\sigma \\over \\sqrt n}}$\n",
    "\n",
    "По умолчанию М(х) = d_0 , а $\\bar{X}$ = d_1"
   ]
  },
  {
   "cell_type": "code",
   "execution_count": 119,
   "id": "3e8d879c-138e-48e8-b8c3-b8703692e54b",
   "metadata": {},
   "outputs": [],
   "source": [
    "t_real = (d_1 - d_0) / (sigma / np.sqrt(n))"
   ]
  },
  {
   "cell_type": "markdown",
   "id": "6dd614b7-c0e7-4d24-a85d-acb064cf7d31",
   "metadata": {},
   "source": [
    "С другой стороны может быть определена как квантиль нормального распределения с достоверностью р"
   ]
  },
  {
   "cell_type": "code",
   "execution_count": 120,
   "id": "88cd6a40-99c7-481b-bfd4-bf1e98384605",
   "metadata": {},
   "outputs": [],
   "source": [
    "t_theory = get_quantil(alpha=p, f_x = lambda x: norm(x, 1, 0))"
   ]
  },
  {
   "cell_type": "code",
   "execution_count": 121,
   "id": "ff1e0718-c7a7-42d7-aa23-928b9827c364",
   "metadata": {},
   "outputs": [
    {
     "name": "stdout",
     "output_type": "stream",
     "text": [
      "1.640625 2.5\n"
     ]
    }
   ],
   "source": [
    "print(t_theory, t_real)"
   ]
  },
  {
   "cell_type": "markdown",
   "id": "b0080815-7d78-4290-98ff-2f410fbd594f",
   "metadata": {},
   "source": [
    "t_real > t_theory => Изначальное предположение что d_0 истина - неверно"
   ]
  },
  {
   "cell_type": "markdown",
   "id": "9c3df968-967b-4a1e-bbed-29f3de91d8d5",
   "metadata": {},
   "source": [
    "__4.__\n",
    "\n",
    "Продавец утверждает, что средний вес пачки печенья составляет 200 г.\n",
    "\n",
    "Из партии извлечена выборка из 10 пачек. Вес каждой пачки составляет:\n",
    "\n",
    "202, 203, 199, 197, 195, 201, 200, 204, 194, 190.\n",
    "\n",
    "Известно, что их веса распределены нормально.\n",
    "\n",
    "Верно ли утверждение продавца, если учитывать, что доверительная вероятность равна 99%?"
   ]
  },
  {
   "cell_type": "markdown",
   "id": "ac9dc6b8-2310-4290-a81f-41f85cd35f3e",
   "metadata": {},
   "source": [
    "Предварительный анализ неизвестен => Используем распределение стьюдента вместо нормаьного распределения"
   ]
  },
  {
   "cell_type": "code",
   "execution_count": 123,
   "id": "270f0d17-a035-4e98-8ff8-bb4b3b77fba5",
   "metadata": {},
   "outputs": [],
   "source": [
    "data = np.asarray([202, 203, 199, 197, 195, 201, 200, 204, 194, 190])\n",
    "n = 10\n",
    "d_0 = 200\n",
    "p = 0.99"
   ]
  },
  {
   "cell_type": "code",
   "execution_count": 124,
   "id": "75715933-4ddd-468b-957d-66bcb56b7e3a",
   "metadata": {},
   "outputs": [],
   "source": [
    "X_avr = stats.tmean(data)\n",
    "stddev = stats.tstd(data)"
   ]
  },
  {
   "cell_type": "code",
   "execution_count": 128,
   "id": "715055c8-1c8f-4d04-894b-59bda7ff41de",
   "metadata": {},
   "outputs": [],
   "source": [
    "t_real = abs(X_avr - d_0) / (stddev / np.sqrt(n))"
   ]
  },
  {
   "cell_type": "code",
   "execution_count": 129,
   "id": "f1912b13-23f5-4ffc-9e56-165a88da4bfc",
   "metadata": {},
   "outputs": [],
   "source": [
    "t_theory = get_quantil(alpha=p, f_x = lambda x: student(x, n-1))"
   ]
  },
  {
   "cell_type": "code",
   "execution_count": 130,
   "id": "12563cd6-a850-46ac-be59-0a86079b3f2e",
   "metadata": {},
   "outputs": [
    {
     "name": "stdout",
     "output_type": "stream",
     "text": [
      "2.8125 1.0651074037450896\n"
     ]
    }
   ],
   "source": [
    "print(t_theory, t_real)"
   ]
  },
  {
   "cell_type": "markdown",
   "id": "2be609a6-a1cb-4e2c-ba92-09eea931a7bb",
   "metadata": {},
   "source": [
    "t_real < t_theory"
   ]
  }
 ],
 "metadata": {
  "kernelspec": {
   "display_name": "Python 3 (ipykernel)",
   "language": "python",
   "name": "python3"
  },
  "language_info": {
   "codemirror_mode": {
    "name": "ipython",
    "version": 3
   },
   "file_extension": ".py",
   "mimetype": "text/x-python",
   "name": "python",
   "nbconvert_exporter": "python",
   "pygments_lexer": "ipython3",
   "version": "3.9.12"
  }
 },
 "nbformat": 4,
 "nbformat_minor": 5
}
