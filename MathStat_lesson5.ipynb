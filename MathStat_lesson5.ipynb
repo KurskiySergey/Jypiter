{
 "cells": [
  {
   "cell_type": "markdown",
   "id": "7b52727d-a5ee-4e0c-be7b-cdde6027b829",
   "metadata": {},
   "source": [
    "Доверительный инервал - это интервал, построенный с помощью случайной выборки из распределения с неизвестным параметром, такой, что он содержит данный параметр с заданной вероятностью.\n",
    "\n",
    "При условии что для выборки Х с нормальным распределением $N(m, \\sigma)$. Математическое ожидание равно m. При n независимых измерениях, критерий дисперсии D(x) = $\\sigma^2 \\over n$\n",
    "\n",
    "По определению t-статистики, величина t = ${<X> - m} \\over \\sqrt{\\sigma^2 \\over n}$. Данная величина имеет нормальное распределение N(0,1).\n",
    "\n",
    "При введении достоверности p = 1 -$\\alpha$ , вероятность нахождения величины t определить как $P(-t_{1-{\\alpha \\over 2}} <= t <= t_{1-{\\alpha \\over 2}}) = 1 - \\alpha$ в силу симметрии. Где t - квантиль нормального распределения\n",
    "\n",
    "Таким образом для заданного значения m получаем доверительный интервал $<X> - t_{1-{\\alpha \\over 2}}  {\\sigma \\over \\sqrt n} \\le m \\ge <X> + t_{1-{\\alpha \\over 2}} {\\sigma \\over \\sqrt n} $,\n",
    "\n",
    "при условии что известна $\\sigma$.\n",
    "\n",
    "В случае, если $\\sigma$ неизвестна, вместо нормального распределения можно воспользоваться распределением Стьюдента $t_{1-{\\alpha \\over 2}}(n-1)$"
   ]
  },
  {
   "cell_type": "markdown",
   "id": "e0971290-ec24-4711-befe-869019ce9f64",
   "metadata": {},
   "source": [
    "__1.__ \n",
    "\n",
    "Известно, что генеральная совокупность распределена нормально\n",
    "со средним квадратическим отклонением, равным 16.\n",
    "\n",
    "Найти доверительный интервал для оценки математического ожидания a с надежностью 0.95,\n",
    "если выборочная средняя M = 80, а объем выборки n = 256."
   ]
  },
  {
   "cell_type": "code",
   "execution_count": 3,
   "id": "a53389a3-20dd-4d1b-8f1a-e279621fb962",
   "metadata": {},
   "outputs": [],
   "source": [
    "import numpy as np\n",
    "import scipy.integrate as integrate"
   ]
  },
  {
   "cell_type": "code",
   "execution_count": 5,
   "id": "5258ce87-cbb8-4759-82cf-f47f587349e3",
   "metadata": {},
   "outputs": [],
   "source": [
    "def norm(x, sigma, a):\n",
    "    A = 1/(sigma * np.sqrt(np.pi * 2))\n",
    "    B = (x-a)**2 / (2 * sigma**2)\n",
    "    \n",
    "    result = A * np.exp(-B)\n",
    "    return result"
   ]
  },
  {
   "cell_type": "code",
   "execution_count": 18,
   "id": "de1142ee-4437-4121-8401-38b8b529e283",
   "metadata": {},
   "outputs": [],
   "source": [
    "def get_norm_quantil(alpha):\n",
    "    e = 0.1\n",
    "    step = 0.1\n",
    "    p = 1 - alpha / 2\n",
    "    n_x = lambda x: norm(x, 1, 0)\n",
    "    start = 0\n",
    "    while True:\n",
    "        integral = integrate.quad(n_x, -np.inf, start)[0]\n",
    "        if abs(integral - p) < e:\n",
    "            break\n",
    "        elif integal > p:\n",
    "            start \n",
    "        start += step\n",
    "    \n",
    "    return start"
   ]
  },
  {
   "cell_type": "code",
   "execution_count": 15,
   "id": "e21220f1-9704-498e-acc4-7a74211c6ce0",
   "metadata": {},
   "outputs": [],
   "source": [
    "result = get_norm_quantil(alpha=0.025)"
   ]
  },
  {
   "cell_type": "code",
   "execution_count": 17,
   "id": "c678411e-e8f2-4ebc-9972-4771fba5de61",
   "metadata": {},
   "outputs": [
    {
     "name": "stdout",
     "output_type": "stream",
     "text": [
      "1.3 0.9875\n"
     ]
    }
   ],
   "source": [
    "print(result, 1 - 0.025/2)"
   ]
  },
  {
   "cell_type": "code",
   "execution_count": null,
   "id": "89ed0686-b1f8-4538-9273-7cad70726ea0",
   "metadata": {},
   "outputs": [],
   "source": []
  }
 ],
 "metadata": {
  "kernelspec": {
   "display_name": "Python 3 (ipykernel)",
   "language": "python",
   "name": "python3"
  },
  "language_info": {
   "codemirror_mode": {
    "name": "ipython",
    "version": 3
   },
   "file_extension": ".py",
   "mimetype": "text/x-python",
   "name": "python",
   "nbconvert_exporter": "python",
   "pygments_lexer": "ipython3",
   "version": "3.7.4"
  }
 },
 "nbformat": 4,
 "nbformat_minor": 5
}
