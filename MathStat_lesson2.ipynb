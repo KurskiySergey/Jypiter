{
 "cells": [
  {
   "cell_type": "code",
   "execution_count": 1,
   "id": "ef2ae811-4374-4837-99a9-21a49c9f8ba4",
   "metadata": {},
   "outputs": [],
   "source": [
    "import numpy as np"
   ]
  },
  {
   "cell_type": "code",
   "execution_count": 2,
   "id": "754c102a-6aa6-4446-96ff-926282128355",
   "metadata": {},
   "outputs": [],
   "source": [
    "def comb(n, k):\n",
    "    if 0 <= k <= n:\n",
    "        nn = 1\n",
    "        kk = 1\n",
    "        for t in range(1, min(k, n - k) + 1):\n",
    "            nn *= n\n",
    "            kk *= t\n",
    "            n -= 1\n",
    "        return nn // kk\n",
    "    else:\n",
    "        return 0"
   ]
  },
  {
   "cell_type": "markdown",
   "id": "3f2d523b-7c53-4c3f-9681-951c5a8a4834",
   "metadata": {},
   "source": [
    "__1.__ Вероятность того, что стрелок попадет в мишень, выстрелив один раз, равна 0.8. Стрелок выстрелил 100 раз. Найдите вероятность того, что стрелок попадет в цель ровно 85 раз."
   ]
  },
  {
   "cell_type": "markdown",
   "id": "30f09c89-d567-4af6-843b-5a0f8479702f",
   "metadata": {},
   "source": [
    "85 попал, 15 промахнулся => $P = C_{100}^{85}*P(A)^{85}*P(B)^{15}$"
   ]
  },
  {
   "cell_type": "code",
   "execution_count": 3,
   "id": "2da147a0-064d-4b99-8513-5ba4c0e69b02",
   "metadata": {},
   "outputs": [
    {
     "data": {
      "text/plain": [
       "0.048061793700746556"
      ]
     },
     "execution_count": 3,
     "metadata": {},
     "output_type": "execute_result"
    }
   ],
   "source": [
    "result = comb(100, 85) * np.math.pow(0.8, 85)*np.math.pow(0.2, 15)\n",
    "result"
   ]
  },
  {
   "cell_type": "markdown",
   "id": "e003496f-5fdb-48ea-a190-6e2c927770c6",
   "metadata": {},
   "source": [
    "__2.__ Вероятность того, что лампочка перегорит в течение первого дня эксплуатации, равна 0.0004. В жилом комплексе после ремонта в один день включили 5000 новых лампочек. Какова вероятность, что ни одна из них не перегорит в первый день? Какова вероятность, что перегорят ровно две?"
   ]
  },
  {
   "cell_type": "markdown",
   "id": "57178ad2-c238-4331-896b-46a67bf2948c",
   "metadata": {},
   "source": [
    "a) $P(A) = 0.0004 , P(1-A) = 1 - P(A), P(B) = P(1-A)^{5000}$\n",
    "\n",
    "b) $P(C) = C_{5000}^{2} * P(A)^{5000-2}*P(1-A)^{2}$"
   ]
  },
  {
   "cell_type": "code",
   "execution_count": 4,
   "id": "2591faab-250d-409c-b06e-b794da993d31",
   "metadata": {},
   "outputs": [
    {
     "data": {
      "text/plain": [
       "(0.13528114551440706, 0.0)"
      ]
     },
     "execution_count": 4,
     "metadata": {},
     "output_type": "execute_result"
    }
   ],
   "source": [
    "p = 0.0004\n",
    "result_1 = np.math.pow(1-p, 5000)\n",
    "result_2 = comb(5000, 2) * np.math.pow(p, 5000-2) * np.math.pow(1-p,2)\n",
    "result_1, result_2"
   ]
  },
  {
   "cell_type": "markdown",
   "id": "6140bc2f-f596-4b99-8f20-6ce8220e0dad",
   "metadata": {},
   "source": [
    "__3.__ Монету подбросили 144 раза. Какова вероятность, что орел выпадет ровно 70 раз?"
   ]
  },
  {
   "cell_type": "markdown",
   "id": "c1461599-f709-4612-8236-f2c506fee6e7",
   "metadata": {},
   "source": [
    "result = $ C_{144}^{70} / 2^{144}$"
   ]
  },
  {
   "cell_type": "code",
   "execution_count": 5,
   "id": "de6030bc-7d6a-494c-862b-f955291fa20b",
   "metadata": {},
   "outputs": [
    {
     "data": {
      "text/plain": [
       "0.06281178035144776"
      ]
     },
     "execution_count": 5,
     "metadata": {},
     "output_type": "execute_result"
    }
   ],
   "source": [
    "result = comb(144, 70) / np.math.pow(2, 144)\n",
    "result"
   ]
  },
  {
   "cell_type": "markdown",
   "id": "a18f2a05-7420-4b05-aa89-85134177e34c",
   "metadata": {},
   "source": [
    "__4.__ В первом ящике находится 10 мячей, из которых 7 - белые. Во втором ящике - 11 мячей, из которых 9 белых. Из каждого ящика вытаскивают случайным образом по два мяча. Какова вероятность того, что все мячи белые? Какова вероятность того, что ровно два мяча белые? Какова вероятность того, что хотя бы один мяч белый?"
   ]
  },
  {
   "cell_type": "markdown",
   "id": "e6c14405-cf04-46f1-ab35-ddc253519220",
   "metadata": {},
   "source": [
    "1) P = P(A)*P(B)"
   ]
  },
  {
   "cell_type": "code",
   "execution_count": 6,
   "id": "f04e0176-074f-4b9e-9e54-b47554458e5a",
   "metadata": {},
   "outputs": [
    {
     "data": {
      "text/plain": [
       "0.3054545454545455"
      ]
     },
     "execution_count": 6,
     "metadata": {},
     "output_type": "execute_result"
    }
   ],
   "source": [
    "p_a = (7 * 6)/(10*9)\n",
    "p_b = (9*8)/(11*10)\n",
    "p = p_a*p_b\n",
    "p"
   ]
  },
  {
   "cell_type": "code",
   "execution_count": 8,
   "id": "2b5c0f4b-ff50-403f-a97e-d4da12609fd5",
   "metadata": {},
   "outputs": [
    {
     "data": {
      "text/plain": [
       "3.0"
      ]
     },
     "execution_count": 8,
     "metadata": {},
     "output_type": "execute_result"
    }
   ],
   "source": [
    "#количество комбинаций\n",
    "c = comb(4, 2) / (1*2)\n",
    "c"
   ]
  },
  {
   "cell_type": "markdown",
   "id": "044621fa-2340-419d-8bfc-2f55b6d7a49c",
   "metadata": {},
   "source": [
    "(0,2), (1,1),(2,0)\n",
    "\n",
    "P = P(A) + P(B) + P(C)"
   ]
  },
  {
   "cell_type": "code",
   "execution_count": 11,
   "id": "e1530c5c-17e4-4e4e-b7fa-ad90ff0efa43",
   "metadata": {},
   "outputs": [
    {
     "data": {
      "text/plain": [
       "0.0903030303030303"
      ]
     },
     "execution_count": 11,
     "metadata": {},
     "output_type": "execute_result"
    }
   ],
   "source": [
    "p_1a = (3*2)/(10*9)\n",
    "p_1b = (2*1)/(11*10)\n",
    "p_A = p_1a * p_b\n",
    "p_B = p_a * p_1b\n",
    "p_C = (7/10)*(3/9) * (9/11)*(2/10)\n",
    "P = p_A + p_B + p_C\n",
    "P"
   ]
  },
  {
   "cell_type": "markdown",
   "id": "5d941f1a-cdb2-4aad-ab87-5ddcc5b55f0c",
   "metadata": {},
   "source": [
    "p = 1 - p(black)"
   ]
  },
  {
   "cell_type": "code",
   "execution_count": 13,
   "id": "2baf317e-ed4b-4a2c-93fb-6a28e73bdf3e",
   "metadata": {},
   "outputs": [
    {
     "data": {
      "text/plain": [
       "0.9987878787878788"
      ]
     },
     "execution_count": 13,
     "metadata": {},
     "output_type": "execute_result"
    }
   ],
   "source": [
    "p_black = p_1a * p_1b\n",
    "p = 1 - p_black\n",
    "p"
   ]
  }
 ],
 "metadata": {
  "kernelspec": {
   "display_name": "Python 3 (ipykernel)",
   "language": "python",
   "name": "python3"
  },
  "language_info": {
   "codemirror_mode": {
    "name": "ipython",
    "version": 3
   },
   "file_extension": ".py",
   "mimetype": "text/x-python",
   "name": "python",
   "nbconvert_exporter": "python",
   "pygments_lexer": "ipython3",
   "version": "3.7.4"
  }
 },
 "nbformat": 4,
 "nbformat_minor": 5
}
