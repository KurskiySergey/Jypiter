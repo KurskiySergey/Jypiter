{
 "cells": [
  {
   "cell_type": "markdown",
   "id": "0fd09042-af05-4ddb-9585-8ac1153031cf",
   "metadata": {},
   "source": [
    "Все задания рекомендуется выполнять вручную, проверяя полученные результаты с использованием NumPy.\n",
    "\n",
    "__1.__ Вычислите определитель:\n",
    "\n",
    "   a)\n",
    "\n",
    "$$\\begin{vmatrix}\n",
    "sinx & -cosx\\\\ \n",
    "cosx & sinx\n",
    "\\end{vmatrix};$$\n",
    "\n",
    "   б)\n",
    "    \n",
    "$$\\begin{vmatrix}\n",
    "4 & 2 & 3\\\\ \n",
    "0 & 5 & 1\\\\ \n",
    "0 & 0 & 9\n",
    "\\end{vmatrix};$$\n",
    "    \n",
    "   в)\n",
    "\n",
    "$$\\begin{vmatrix}\n",
    "1 & 2 & 3\\\\ \n",
    "4 & 5 & 6\\\\ \n",
    "7 & 8 & 9\n",
    "\\end{vmatrix}.$$\n",
    "\n",
    "\n",
    "__2.__ Определитель матрицы $A$ равен $4$. Найдите:\n",
    "\n",
    "   а) $det(A^{2})$;\n",
    "    \n",
    "   б) $det(A^{T})$;\n",
    "    \n",
    "   в) $det(2A)$.\n",
    "   \n",
    "__3.__  Докажите, что матрица:\n",
    "\n",
    "$$\\begin{pmatrix}\n",
    "-2 & 7 & -3\\\\ \n",
    "4 & -14 & 6\\\\ \n",
    "-3 & 7 & 13\n",
    "\\end{pmatrix}$$\n",
    "   \n",
    "вырожденная.\n",
    "\n",
    "__4.__ Найдите ранг матрицы:\n",
    "\n",
    "   а) $\\begin{pmatrix}\n",
    "1 & 2 & 3\\\\ \n",
    "1 & 1 & 1\\\\ \n",
    "2 & 3 & 4\n",
    "\\end{pmatrix};$\n",
    "\n",
    "   б) $\\begin{pmatrix}\n",
    "0 & 0 & 2 & 1\\\\ \n",
    "0 & 0 & 2 & 2\\\\ \n",
    "0 & 0 & 4 & 3\\\\ \n",
    "2 & 3 & 5 & 6\n",
    "\\end{pmatrix}.$"
   ]
  },
  {
   "cell_type": "code",
   "execution_count": 145,
   "id": "6a850d94-a99c-4c06-af02-6c75ec856eeb",
   "metadata": {},
   "outputs": [],
   "source": [
    "import numpy as np\n",
    "\n",
    "def find_minor(matrix, index):\n",
    "    minor = []\n",
    "    data = matrix[1:]\n",
    "    for row in data:\n",
    "        minor_raw = []\n",
    "        for i, elem in enumerate(row):\n",
    "            if i != index:\n",
    "                minor_raw.append(elem)\n",
    "        minor.append(minor_raw)\n",
    "    return np.asarray(minor)\n",
    "    \n",
    "def find_det_3d(matrix):\n",
    "    start_count = 1\n",
    "    det = 0\n",
    "    for i in range(3):\n",
    "        minor_i = find_minor(matrix, i)\n",
    "        det += start_count * find_det(minor_i) * matrix[0][i]\n",
    "        start_count *= -1\n",
    "        \n",
    "    return det\n",
    "        \n",
    "        \n",
    "def find_det(matrix):\n",
    "    det = matrix[0][0] * matrix[1][1] - matrix[0][1] * matrix[1][0]\n",
    "    return det\n"
   ]
  },
  {
   "cell_type": "code",
   "execution_count": 146,
   "id": "eba0c24c-af71-40a1-ada6-b3ebd5c9a1cf",
   "metadata": {},
   "outputs": [],
   "source": [
    "matrix = np.asarray([[4,2,3],[0,5,1], [0,0,9]])"
   ]
  },
  {
   "cell_type": "code",
   "execution_count": 147,
   "id": "b3c68193-e65a-4974-934b-a19a517ed8d0",
   "metadata": {},
   "outputs": [
    {
     "data": {
      "text/plain": [
       "(180, 180.0)"
      ]
     },
     "execution_count": 147,
     "metadata": {},
     "output_type": "execute_result"
    }
   ],
   "source": [
    "find_det_3d(matrix), np.linalg.det(matrix)"
   ]
  },
  {
   "cell_type": "code",
   "execution_count": 148,
   "id": "342ef6ac-451b-4b72-ae66-fa7657d5ece1",
   "metadata": {},
   "outputs": [
    {
     "data": {
      "text/plain": [
       "1.0"
      ]
     },
     "execution_count": 148,
     "metadata": {},
     "output_type": "execute_result"
    }
   ],
   "source": [
    "x = 1\n",
    "matrix = np.asarray([[np.sin(x), -np.cos(x)], [np.cos(x), np.sin(x)]])\n",
    "find_det(matrix)"
   ]
  },
  {
   "cell_type": "code",
   "execution_count": 149,
   "id": "90b28e22-25fb-4a86-9cc8-3322a5ec8cd8",
   "metadata": {},
   "outputs": [
    {
     "data": {
      "text/plain": [
       "(0, 0.0)"
      ]
     },
     "execution_count": 149,
     "metadata": {},
     "output_type": "execute_result"
    }
   ],
   "source": [
    "matrix = np.asarray([[1,2,3],[4,5,6],[7,8,9]])\n",
    "find_det_3d(matrix), np.linalg.det(matrix)"
   ]
  },
  {
   "cell_type": "markdown",
   "id": "40809f2c-3eeb-4515-841c-869ef4661b58",
   "metadata": {},
   "source": [
    "__2.__ Определитель матрицы $A$ равен $4$. Найдите:\n",
    "\n",
    "   а) $det(A^{2})$;\n",
    "    \n",
    "   б) $det(A^{T})$;\n",
    "    \n",
    "   в) $det(2A)$."
   ]
  },
  {
   "cell_type": "code",
   "execution_count": 150,
   "id": "f65bcf88-5f41-4b1f-a52c-7899d5524e32",
   "metadata": {},
   "outputs": [],
   "source": [
    "A = [[], [], []]\n",
    "detA = 4\n",
    "detAA = detA * detA\n",
    "defAt = detA\n",
    "det2A = np.power(2, len(A)) * detA"
   ]
  },
  {
   "cell_type": "code",
   "execution_count": 151,
   "id": "4999d3bf-c6ef-4292-aa1e-1fc40afb1b3f",
   "metadata": {},
   "outputs": [
    {
     "data": {
      "text/plain": [
       "0"
      ]
     },
     "execution_count": 151,
     "metadata": {},
     "output_type": "execute_result"
    }
   ],
   "source": [
    "matrix = np.asarray([[-2,7,-3],[4,-14,6],[-3,7,13]])\n",
    "find_det_3d(matrix)"
   ]
  },
  {
   "cell_type": "code",
   "execution_count": 152,
   "id": "7e519a4c-187d-42c1-9f40-244edb25390f",
   "metadata": {},
   "outputs": [],
   "source": [
    "def find_rank(matrix):\n",
    "    rank = min(matrix.shape) + 1\n",
    "    m_shape = matrix.shape\n",
    "    det = 0\n",
    "    while det == 0:\n",
    "        rank -=1\n",
    "        for i in range(m_shape[0]-rank + 1):\n",
    "            for j in range(m_shape[1]-rank + 1):\n",
    "                calc_matrix = matrix[i:i+rank, j:j+rank]\n",
    "                calc_det = np.linalg.det(calc_matrix)\n",
    "                if calc_det != 0:\n",
    "                    det = calc_det\n",
    "    return rank"
   ]
  },
  {
   "cell_type": "code",
   "execution_count": 153,
   "id": "7dfe2e28-cc8f-4d41-afb4-def886380ce5",
   "metadata": {},
   "outputs": [],
   "source": [
    "matrix = np.asarray([[1,2,3],[1,1,1],[2,3,4]])"
   ]
  },
  {
   "cell_type": "code",
   "execution_count": 154,
   "id": "ef93c621-014e-415f-a08a-00f4dda8333b",
   "metadata": {},
   "outputs": [
    {
     "data": {
      "text/plain": [
       "(2, 2)"
      ]
     },
     "execution_count": 154,
     "metadata": {},
     "output_type": "execute_result"
    }
   ],
   "source": [
    "find_rank(matrix), np.linalg.matrix_rank(matrix)"
   ]
  },
  {
   "cell_type": "code",
   "execution_count": 155,
   "id": "5a44e279-a38e-46d1-877c-f0d9085e398d",
   "metadata": {},
   "outputs": [],
   "source": [
    "matrix = np.asarray([[0,0,2,1],[0,0,2,2],[0,0,4,3],[2,3,5,6]])"
   ]
  },
  {
   "cell_type": "code",
   "execution_count": 156,
   "id": "e6252d4b-50ac-4e77-8d03-f4c3cb6f029c",
   "metadata": {},
   "outputs": [
    {
     "data": {
      "text/plain": [
       "(3, 3)"
      ]
     },
     "execution_count": 156,
     "metadata": {},
     "output_type": "execute_result"
    }
   ],
   "source": [
    "find_rank(matrix), np.linalg.matrix_rank(matrix)"
   ]
  },
  {
   "cell_type": "markdown",
   "id": "f1f2a1dc-c58b-47d3-baf5-83cf3448eb8e",
   "metadata": {},
   "source": [
    "Все задания рекомендуется делать вручную, проверяя полученные результаты через NumPy.\n",
    "\n",
    "__1.__ Установите, какие произведения матриц $AB$ и $BA$ определены, и найдите размерности полученных матриц:\n",
    "\n",
    "   а) $A$ — матрица $4\\times 2$, $B$ — матрица $4\\times 2$;\n",
    "    \n",
    "   б) $A$ — матрица $2\\times 5$, $B$ — матрица $5\\times 3$;\n",
    "    \n",
    "   в) $A$ — матрица $8\\times 3$, $B$ — матрица $3\\times 8$;\n",
    "    \n",
    "   г) $A$ — квадратная матрица $4\\times 4$, $B$ — квадратная матрица $4\\times 4$.\n",
    "    \n",
    "__2.__ Найдите сумму и произведение матриц $A=\\begin{pmatrix}\n",
    "1 & -2\\\\ \n",
    "3 & 0\n",
    "\\end{pmatrix}$ и $B=\\begin{pmatrix}\n",
    "4 & -1\\\\ \n",
    "0 & 5\n",
    "\\end{pmatrix}.$\n",
    "\n",
    "__3.__ Из закономерностей сложения и умножения матриц на число можно сделать вывод, что матрицы одного размера образуют линейное пространство. Вычислите линейную комбинацию $3A-2B+4C$ для матриц $A=\\begin{pmatrix}\n",
    "1 & 7\\\\ \n",
    "3 & -6\n",
    "\\end{pmatrix}$, $B=\\begin{pmatrix}\n",
    "0 & 5\\\\ \n",
    "2 & -1\n",
    "\\end{pmatrix}$, $C=\\begin{pmatrix}\n",
    "2 & -4\\\\ \n",
    "1 & 1\n",
    "\\end{pmatrix}.$\n",
    "    \n",
    "__4.__ Дана матрица $A=\\begin{pmatrix}\n",
    "4 & 1\\\\ \n",
    "5 & -2\\\\ \n",
    "2 & 3\n",
    "\\end{pmatrix}$.\n",
    "Вычислите $AA^{T}$ и $A^{T}A$.\n",
    "\n",
    "__5*.__ Напишите на Python функцию для перемножения двух произвольных матриц, не используя NumPy."
   ]
  },
  {
   "cell_type": "code",
   "execution_count": 163,
   "id": "266dfc7b-9b88-42b0-99ba-1db377ba0ab2",
   "metadata": {},
   "outputs": [],
   "source": [
    "A = np.ones((4,2))\n",
    "B = np.random.rand(4,2)"
   ]
  },
  {
   "cell_type": "code",
   "execution_count": 168,
   "id": "6aa14267-8061-4f11-a536-44eb73dc84ff",
   "metadata": {},
   "outputs": [
    {
     "ename": "ValueError",
     "evalue": "shapes (4,2) and (4,2) not aligned: 2 (dim 1) != 4 (dim 0)",
     "output_type": "error",
     "traceback": [
      "\u001b[1;31m---------------------------------------------------------------------------\u001b[0m",
      "\u001b[1;31mValueError\u001b[0m                                Traceback (most recent call last)",
      "\u001b[1;32m~\\AppData\\Local\\Temp\\ipykernel_15404\\4230161603.py\u001b[0m in \u001b[0;36m<module>\u001b[1;34m\u001b[0m\n\u001b[1;32m----> 1\u001b[1;33m \u001b[0mnp\u001b[0m\u001b[1;33m.\u001b[0m\u001b[0mdot\u001b[0m\u001b[1;33m(\u001b[0m\u001b[0mA\u001b[0m\u001b[1;33m,\u001b[0m \u001b[0mB\u001b[0m\u001b[1;33m)\u001b[0m\u001b[1;33m\u001b[0m\u001b[1;33m\u001b[0m\u001b[0m\n\u001b[0m",
      "\u001b[1;32m<__array_function__ internals>\u001b[0m in \u001b[0;36mdot\u001b[1;34m(*args, **kwargs)\u001b[0m\n",
      "\u001b[1;31mValueError\u001b[0m: shapes (4,2) and (4,2) not aligned: 2 (dim 1) != 4 (dim 0)"
     ]
    }
   ],
   "source": [
    "np.dot(A, B)"
   ]
  },
  {
   "cell_type": "code",
   "execution_count": 169,
   "id": "c2e25b7f-e725-44ca-b228-514c60a8ea89",
   "metadata": {},
   "outputs": [
    {
     "ename": "ValueError",
     "evalue": "shapes (4,2) and (4,2) not aligned: 2 (dim 1) != 4 (dim 0)",
     "output_type": "error",
     "traceback": [
      "\u001b[1;31m---------------------------------------------------------------------------\u001b[0m",
      "\u001b[1;31mValueError\u001b[0m                                Traceback (most recent call last)",
      "\u001b[1;32m~\\AppData\\Local\\Temp\\ipykernel_15404\\3556466104.py\u001b[0m in \u001b[0;36m<module>\u001b[1;34m\u001b[0m\n\u001b[1;32m----> 1\u001b[1;33m \u001b[0mnp\u001b[0m\u001b[1;33m.\u001b[0m\u001b[0mdot\u001b[0m\u001b[1;33m(\u001b[0m\u001b[0mB\u001b[0m\u001b[1;33m,\u001b[0m \u001b[0mA\u001b[0m\u001b[1;33m)\u001b[0m\u001b[1;33m\u001b[0m\u001b[1;33m\u001b[0m\u001b[0m\n\u001b[0m",
      "\u001b[1;32m<__array_function__ internals>\u001b[0m in \u001b[0;36mdot\u001b[1;34m(*args, **kwargs)\u001b[0m\n",
      "\u001b[1;31mValueError\u001b[0m: shapes (4,2) and (4,2) not aligned: 2 (dim 1) != 4 (dim 0)"
     ]
    }
   ],
   "source": [
    "np.dot(B, A)"
   ]
  },
  {
   "cell_type": "code",
   "execution_count": 170,
   "id": "435092b8-66e4-4b4e-b7d7-0859cad4f743",
   "metadata": {},
   "outputs": [],
   "source": [
    "A = np.ones((2,5))\n",
    "B = np.ones((5,3))"
   ]
  },
  {
   "cell_type": "code",
   "execution_count": 172,
   "id": "56c27a10-6dc7-467f-a998-87c52bbe6f03",
   "metadata": {},
   "outputs": [
    {
     "data": {
      "text/plain": [
       "(2, 3)"
      ]
     },
     "execution_count": 172,
     "metadata": {},
     "output_type": "execute_result"
    }
   ],
   "source": [
    "np.dot(A,B).shape"
   ]
  },
  {
   "cell_type": "code",
   "execution_count": 173,
   "id": "eb2f896c-c931-4508-83d0-55c9f3c3657f",
   "metadata": {},
   "outputs": [
    {
     "ename": "ValueError",
     "evalue": "shapes (5,3) and (2,5) not aligned: 3 (dim 1) != 2 (dim 0)",
     "output_type": "error",
     "traceback": [
      "\u001b[1;31m---------------------------------------------------------------------------\u001b[0m",
      "\u001b[1;31mValueError\u001b[0m                                Traceback (most recent call last)",
      "\u001b[1;32m~\\AppData\\Local\\Temp\\ipykernel_15404\\3589175795.py\u001b[0m in \u001b[0;36m<module>\u001b[1;34m\u001b[0m\n\u001b[1;32m----> 1\u001b[1;33m \u001b[0mnp\u001b[0m\u001b[1;33m.\u001b[0m\u001b[0mdot\u001b[0m\u001b[1;33m(\u001b[0m\u001b[0mB\u001b[0m\u001b[1;33m,\u001b[0m\u001b[0mA\u001b[0m\u001b[1;33m)\u001b[0m\u001b[1;33m\u001b[0m\u001b[1;33m\u001b[0m\u001b[0m\n\u001b[0m",
      "\u001b[1;32m<__array_function__ internals>\u001b[0m in \u001b[0;36mdot\u001b[1;34m(*args, **kwargs)\u001b[0m\n",
      "\u001b[1;31mValueError\u001b[0m: shapes (5,3) and (2,5) not aligned: 3 (dim 1) != 2 (dim 0)"
     ]
    }
   ],
   "source": [
    "np.dot(B,A)"
   ]
  },
  {
   "cell_type": "code",
   "execution_count": 174,
   "id": "41139c0f-8c39-4e8a-aa39-25a1fa605ad1",
   "metadata": {},
   "outputs": [],
   "source": [
    "A = np.ones((8,3))\n",
    "B = np.ones((3,8))"
   ]
  },
  {
   "cell_type": "code",
   "execution_count": 175,
   "id": "d580b0ce-e768-4831-8bb1-50b8e5670a2d",
   "metadata": {},
   "outputs": [
    {
     "data": {
      "text/plain": [
       "(8, 8)"
      ]
     },
     "execution_count": 175,
     "metadata": {},
     "output_type": "execute_result"
    }
   ],
   "source": [
    "np.dot(A,B).shape"
   ]
  },
  {
   "cell_type": "code",
   "execution_count": 177,
   "id": "b58e7504-cfad-4850-b5c5-5a02053ab2e7",
   "metadata": {},
   "outputs": [
    {
     "data": {
      "text/plain": [
       "(3, 3)"
      ]
     },
     "execution_count": 177,
     "metadata": {},
     "output_type": "execute_result"
    }
   ],
   "source": [
    "np.dot(B,A).shape"
   ]
  },
  {
   "cell_type": "code",
   "execution_count": 178,
   "id": "32322d9c-25af-49c6-8439-c2f20a4a3ce9",
   "metadata": {},
   "outputs": [],
   "source": [
    "A = np.ones((4,4))\n",
    "B = np.ones((4,4))"
   ]
  },
  {
   "cell_type": "code",
   "execution_count": 179,
   "id": "65cd2f08-0aa5-40b6-8471-824edab02bb7",
   "metadata": {},
   "outputs": [
    {
     "data": {
      "text/plain": [
       "(4, 4)"
      ]
     },
     "execution_count": 179,
     "metadata": {},
     "output_type": "execute_result"
    }
   ],
   "source": [
    "np.dot(A,B).shape"
   ]
  },
  {
   "cell_type": "code",
   "execution_count": 180,
   "id": "4ee1a410-aabb-4f5b-a9b5-9fbbb176d1df",
   "metadata": {},
   "outputs": [
    {
     "data": {
      "text/plain": [
       "(4, 4)"
      ]
     },
     "execution_count": 180,
     "metadata": {},
     "output_type": "execute_result"
    }
   ],
   "source": [
    "np.dot(B,A).shape"
   ]
  },
  {
   "cell_type": "code",
   "execution_count": 181,
   "id": "93f68e19-6669-41e2-b1e4-dcaef4cde974",
   "metadata": {},
   "outputs": [],
   "source": [
    "A = np.asarray([[1, -2],[3, 0]])\n",
    "B = np.asarray([[4,-1],[0, 5]])"
   ]
  },
  {
   "cell_type": "code",
   "execution_count": 182,
   "id": "af0b1685-f3ef-48de-8876-c219f1248cc7",
   "metadata": {},
   "outputs": [
    {
     "data": {
      "text/plain": [
       "array([[ 5, -3],\n",
       "       [ 3,  5]])"
      ]
     },
     "execution_count": 182,
     "metadata": {},
     "output_type": "execute_result"
    }
   ],
   "source": [
    "A + B"
   ]
  },
  {
   "cell_type": "code",
   "execution_count": 183,
   "id": "d8db645c-3d7a-4760-a12b-7639cdedfb4f",
   "metadata": {},
   "outputs": [
    {
     "data": {
      "text/plain": [
       "array([[  4, -11],\n",
       "       [ 12,  -3]])"
      ]
     },
     "execution_count": 183,
     "metadata": {},
     "output_type": "execute_result"
    }
   ],
   "source": [
    "np.dot(A,B)"
   ]
  },
  {
   "cell_type": "code",
   "execution_count": 184,
   "id": "a5e3510c-9f05-4a98-9e72-fedbaf4cabb0",
   "metadata": {},
   "outputs": [],
   "source": [
    "A = np.asarray([[1, 7],[3, -6]])\n",
    "B = np.asarray([[0,5],[2, -1]])\n",
    "C = np.asarray([[2, -4],[1, 1]])"
   ]
  },
  {
   "cell_type": "code",
   "execution_count": 185,
   "id": "9b5c939c-ecfe-4977-8a2e-5b7a2e7f3ae1",
   "metadata": {},
   "outputs": [
    {
     "data": {
      "text/plain": [
       "array([[ 11,  -5],\n",
       "       [  9, -12]])"
      ]
     },
     "execution_count": 185,
     "metadata": {},
     "output_type": "execute_result"
    }
   ],
   "source": [
    "3*A - 2*B + 4*C"
   ]
  },
  {
   "cell_type": "code",
   "execution_count": 186,
   "id": "920ca002-af8d-4610-811c-c4e530f2b5d2",
   "metadata": {},
   "outputs": [],
   "source": [
    "A = np.asarray([[4, 1],[5, -2],[2,3]])"
   ]
  },
  {
   "cell_type": "code",
   "execution_count": 187,
   "id": "988cf6ed-78cf-4f74-b0ee-51013ebc1def",
   "metadata": {},
   "outputs": [],
   "source": [
    "At = A.transpose()"
   ]
  },
  {
   "cell_type": "code",
   "execution_count": 189,
   "id": "5dba5176-8805-49e2-b9ff-208327a2964d",
   "metadata": {},
   "outputs": [
    {
     "data": {
      "text/plain": [
       "array([[45,  0],\n",
       "       [ 0, 14]])"
      ]
     },
     "execution_count": 189,
     "metadata": {},
     "output_type": "execute_result"
    }
   ],
   "source": [
    "np.dot(At, A)"
   ]
  },
  {
   "cell_type": "code",
   "execution_count": 190,
   "id": "e4ad65db-56b5-427e-99aa-06fdf683fa6a",
   "metadata": {},
   "outputs": [
    {
     "data": {
      "text/plain": [
       "array([[17, 18, 11],\n",
       "       [18, 29,  4],\n",
       "       [11,  4, 13]])"
      ]
     },
     "execution_count": 190,
     "metadata": {},
     "output_type": "execute_result"
    }
   ],
   "source": [
    "np.dot(A,At)"
   ]
  },
  {
   "cell_type": "code",
   "execution_count": null,
   "id": "cc2ce210-d068-4367-a010-e9060a16868d",
   "metadata": {},
   "outputs": [],
   "source": []
  }
 ],
 "metadata": {
  "kernelspec": {
   "display_name": "Python 3 (ipykernel)",
   "language": "python",
   "name": "python3"
  },
  "language_info": {
   "codemirror_mode": {
    "name": "ipython",
    "version": 3
   },
   "file_extension": ".py",
   "mimetype": "text/x-python",
   "name": "python",
   "nbconvert_exporter": "python",
   "pygments_lexer": "ipython3",
   "version": "3.7.4"
  }
 },
 "nbformat": 4,
 "nbformat_minor": 5
}
