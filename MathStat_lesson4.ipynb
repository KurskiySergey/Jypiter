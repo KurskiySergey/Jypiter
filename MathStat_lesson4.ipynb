{
 "cells": [
  {
   "cell_type": "code",
   "execution_count": 2,
   "id": "18234a51-c31a-45a7-baa5-d3e87a3cc464",
   "metadata": {},
   "outputs": [],
   "source": [
    "import numpy as np\n",
    "import scipy.integrate as integrate"
   ]
  },
  {
   "cell_type": "markdown",
   "id": "24fb4424-c911-4612-b86d-60e023f712d4",
   "metadata": {},
   "source": [
    "Определение мат ожидания и дисперсии:\n",
    "\n",
    "$ M(x) = \\int_a^b x*f(x)dx$ для равномерного распределения\n",
    "\n",
    "$ D(x) = M([x-M(x)]^2) $"
   ]
  },
  {
   "cell_type": "markdown",
   "id": "e97177f4-4e0f-4c0e-8957-122c00f5d65e",
   "metadata": {},
   "source": [
    "__1.__ Случайная непрерывная величина A имеет равномерное распределение на промежутке (200, 800].\n",
    "Найдите ее среднее значение и дисперсию."
   ]
  },
  {
   "cell_type": "markdown",
   "id": "8995a0e8-f7c9-4a71-835c-ce53e2461321",
   "metadata": {},
   "source": [
    "$M(x) = \\int_a^b x*f(x)dx = \\int_a^b {x \\over {b-a}}dx = {x^2 \\over {2*(b-a)}}|_a^b = {{b+a} \\over 2}$\n",
    "\n",
    "$D(x) = \\int_a^b (x-m)^2*f(x)dx = \\int_{a-m}^{b-m} {y^2 \\over {b-a}} dy = {{y^3 \\over {3(b-a)}}|_{a-m}^{b-m}} = {(b-a)^2 \\over 12}$"
   ]
  },
  {
   "cell_type": "code",
   "execution_count": 4,
   "id": "9253ae4d-572b-4533-9003-886fafe03146",
   "metadata": {},
   "outputs": [],
   "source": [
    "a = 200\n",
    "b = 800\n",
    "f = lambda x: 1/(b-a)\n",
    "m_x = lambda x: x * f(x)"
   ]
  },
  {
   "cell_type": "code",
   "execution_count": 7,
   "id": "a003752b-cc1e-4f77-a097-85c579812998",
   "metadata": {},
   "outputs": [],
   "source": [
    "m = integrate.quad(m_x, a, b)\n",
    "m_check = (a + b) / 2"
   ]
  },
  {
   "cell_type": "code",
   "execution_count": 8,
   "id": "ab83fe82-9a15-4e28-923f-88988d727651",
   "metadata": {},
   "outputs": [
    {
     "name": "stdout",
     "output_type": "stream",
     "text": [
      "(500.0, 5.551115123125783e-12) 500.0\n"
     ]
    }
   ],
   "source": [
    "print(m, m_check)"
   ]
  },
  {
   "cell_type": "code",
   "execution_count": 9,
   "id": "1627a907-6577-4051-8069-4c29e5a4df23",
   "metadata": {},
   "outputs": [],
   "source": [
    "d_x = lambda x: (x-m[0])**2 * f(x)"
   ]
  },
  {
   "cell_type": "code",
   "execution_count": 10,
   "id": "ae47b02b-0146-42f3-b9bd-f2556410cfcb",
   "metadata": {},
   "outputs": [],
   "source": [
    "d = integrate.quad(d_x, a, b)\n",
    "d_check = (b-a)**2 / 12"
   ]
  },
  {
   "cell_type": "code",
   "execution_count": 11,
   "id": "eae9b28e-b4ad-478c-8dc5-e87f218c3087",
   "metadata": {},
   "outputs": [
    {
     "name": "stdout",
     "output_type": "stream",
     "text": [
      "(30000.000000000004, 3.33066907387547e-10) 30000.0\n"
     ]
    }
   ],
   "source": [
    "print(d, d_check)"
   ]
  },
  {
   "cell_type": "markdown",
   "id": "a1aec45f-92b3-4118-ac5d-aba9a141b052",
   "metadata": {},
   "source": [
    "__2.__ О случайной непрерывной равномерно распределенной величине B известно, что ее дисперсия равна 0.2.\n",
    "Можно ли найти правую границу величины B и ее среднее значение зная, что левая граница равна 0.5?\n",
    "Если да, найдите ее."
   ]
  },
  {
   "cell_type": "code",
   "execution_count": 12,
   "id": "efb2a362-8664-4cd2-add6-4f47b8a491d0",
   "metadata": {},
   "outputs": [],
   "source": [
    "d = 0.2\n",
    "a = 0.5"
   ]
  },
  {
   "cell_type": "code",
   "execution_count": 13,
   "id": "a1dcf8c7-f68a-4711-8960-bc4459ad2887",
   "metadata": {},
   "outputs": [],
   "source": [
    "b = np.sqrt(d * 12) + a"
   ]
  },
  {
   "cell_type": "code",
   "execution_count": 16,
   "id": "1e62e569-081e-4e44-81cb-a2cd1709c139",
   "metadata": {},
   "outputs": [],
   "source": [
    "m = (b+a) / 2"
   ]
  },
  {
   "cell_type": "code",
   "execution_count": 18,
   "id": "ca54c233-347e-4ec8-a74b-08db19fdd3cc",
   "metadata": {},
   "outputs": [
    {
     "name": "stdout",
     "output_type": "stream",
     "text": [
      "1.2745966692414834 2.049193338482967\n"
     ]
    }
   ],
   "source": [
    "print(m, b)"
   ]
  },
  {
   "cell_type": "markdown",
   "id": "fa563137-3dc2-41bd-88b0-2cd2aa76db81",
   "metadata": {},
   "source": [
    "__3.__ Непрерывная случайная величина X распределена нормально и задана плотностью распределения\n",
    "\n",
    "f(x) = (1 / (4 * sqrt(2*pi))) * (exp(-(x+2)**2) / 32).\n",
    "\n",
    "Найдите:\n",
    "\n",
    "а). M(X)\n",
    "\n",
    "б). D(X)\n",
    "\n",
    "в). std(X) (среднее квадратичное отклонение)"
   ]
  },
  {
   "cell_type": "code",
   "execution_count": 32,
   "id": "e4fafcaf-64f0-44a2-b5dc-85eedecdcb9b",
   "metadata": {},
   "outputs": [],
   "source": [
    "f = lambda x: np.exp(-((x+2)**2) /32)/(4*np.sqrt(2*np.pi))"
   ]
  },
  {
   "cell_type": "code",
   "execution_count": 33,
   "id": "87e9748e-5a6f-4e34-a070-5a2bbcc6036d",
   "metadata": {},
   "outputs": [],
   "source": [
    "f_x = lambda x: x * f(x)"
   ]
  },
  {
   "cell_type": "code",
   "execution_count": 36,
   "id": "2857c29c-28ea-4d0b-8727-4967898047db",
   "metadata": {},
   "outputs": [],
   "source": [
    "m = integrate.quad(f_x, -np.inf, np.inf)\n",
    "d_x = lambda x: (x-m[0])**2 * f(x)\n",
    "d = integrate.quad(d_x, -np.inf, np.inf)\n",
    "sigma = np.sqrt(d[0])"
   ]
  },
  {
   "cell_type": "code",
   "execution_count": 37,
   "id": "41dc7307-a256-4c9e-8222-a4b1a99386c3",
   "metadata": {},
   "outputs": [
    {
     "name": "stdout",
     "output_type": "stream",
     "text": [
      "(-2.0, 1.4899235604301335e-08) (15.99999999999999, 1.5260208633093834e-07) 3.9999999999999987\n"
     ]
    }
   ],
   "source": [
    "print(m, d, sigma)"
   ]
  },
  {
   "cell_type": "markdown",
   "id": "bd82240d-6655-4b91-a30f-e25619b1dcb4",
   "metadata": {},
   "source": [
    "Нормальное распределение задается формулой\n",
    "\n",
    "$ $$f(x) = \\frac{1}{\\sigma \\sqrt{2 \\pi}} e ^ {- \\frac{(x - a)^2}{2 \\sigma^2}}$$ $"
   ]
  },
  {
   "cell_type": "code",
   "execution_count": 38,
   "id": "dc1473d3-1f78-4658-8d09-314f03d331ae",
   "metadata": {},
   "outputs": [],
   "source": [
    "a = -2\n",
    "sigma = 4 \n",
    "d = sigma**2"
   ]
  },
  {
   "cell_type": "markdown",
   "id": "488e717d-da17-4cd4-8c9b-8b18ab026c7f",
   "metadata": {},
   "source": [
    "__4.__ \n",
    "Рост взрослого населения города X имеет нормальное распределение.\n",
    "\n",
    "Причем, средний рост равен 174 см, а среднее квадратичное отклонение равно 8 см.\n",
    "\n",
    "Какова вероятность того, что случайным образом выбранный взрослый человек имеет рост:\n",
    "\n",
    "а). больше 182 см\n",
    "\n",
    "б). больше 190 см\n",
    "\n",
    "в). от 166 см до 190 см\n",
    "\n",
    "г). от 166 см до 182 см\n",
    "\n",
    "д). от 158 см до 190 см\n",
    "\n",
    "е). не выше 150 см или не ниже 190 см\n",
    "\n",
    "ё). не выше 150 см или не ниже 198 см\n",
    "\n",
    "ж). ниже 166 см."
   ]
  },
  {
   "cell_type": "code",
   "execution_count": 39,
   "id": "bb81c49d-e54f-459e-859c-fdc1dcc3a5c6",
   "metadata": {},
   "outputs": [],
   "source": [
    "a = 174\n",
    "sigma = 8"
   ]
  },
  {
   "cell_type": "code",
   "execution_count": 77,
   "id": "9e2b89a2-1a50-4664-85d9-e5775b4a07f8",
   "metadata": {},
   "outputs": [],
   "source": [
    "def norm(x, sigma, a):\n",
    "    A = 1/(sigma * np.sqrt(np.pi * 2))\n",
    "    B = (x-a)**2 / (2 * sigma**2)\n",
    "    \n",
    "    result = A * np.exp(-B)\n",
    "    return result"
   ]
  },
  {
   "cell_type": "code",
   "execution_count": 112,
   "id": "6e21cd13-8ab6-4337-a96d-e53c157b5927",
   "metadata": {},
   "outputs": [],
   "source": [
    "range_list = [(182, np.inf),\n",
    "             (190, np.inf),\n",
    "             (166, 190),\n",
    "             (166,182),\n",
    "             (158, 190),\n",
    "             [(0, 150), (190, np.inf)],\n",
    "             [(0, 150), (198, np.inf)],\n",
    "             (0, 166)\n",
    "             ]"
   ]
  },
  {
   "cell_type": "code",
   "execution_count": 113,
   "id": "39ed3ab1-4f87-4331-adc0-42521788609a",
   "metadata": {},
   "outputs": [],
   "source": [
    "n_x = lambda x: norm(x, sigma, a)"
   ]
  },
  {
   "cell_type": "code",
   "execution_count": 114,
   "id": "b60c582f-86b8-493b-acac-7b44e105db25",
   "metadata": {},
   "outputs": [],
   "source": [
    "def integrate_results(range_list, n_x):\n",
    "    result = []\n",
    "    for data in range_list:\n",
    "        if isinstance(data, tuple):\n",
    "            result.append(integrate.quad(n_x, data[0], data[1])[0])\n",
    "        else:\n",
    "            sub_res = 0\n",
    "            for dt in data:\n",
    "                sub_res += integrate.quad(n_x, dt[0], dt[1])[0]\n",
    "            result.append(sub_res)\n",
    "    return result"
   ]
  },
  {
   "cell_type": "code",
   "execution_count": 115,
   "id": "9fcb298a-1128-43d4-98bd-14d4d981462f",
   "metadata": {},
   "outputs": [
    {
     "name": "stdout",
     "output_type": "stream",
     "text": [
      "[0.15865525393145166, 0.0227501319481792, 0.8185946141203638, 0.682689492137086, 0.9544997361036412, 0.02410002997980929, 0.002699796063253696, 0.15865525393145702]\n"
     ]
    }
   ],
   "source": [
    "print(integrate_results(range_list, n_x))"
   ]
  },
  {
   "cell_type": "markdown",
   "id": "d268d5c9-a8d9-4b1d-97c2-63ad4b864bc5",
   "metadata": {},
   "source": [
    "__5.__\n",
    "На сколько сигм (средних квадратичных отклонений) отклоняется рост человека, равный 190 см, от\n",
    "\n",
    "математического ожидания роста в популяции, в которой M(X) = 178 см и D(X) = 25 кв.см?\n"
   ]
  },
  {
   "cell_type": "code",
   "execution_count": 124,
   "id": "cb92ddba-e4ae-4099-9f56-2cb7b85d9d30",
   "metadata": {},
   "outputs": [],
   "source": [
    "x = 190\n",
    "m = 178\n",
    "d = 25\n",
    "sigma = np.sqrt(d)\n",
    "n_0 = norm(m, sigma, m)\n",
    "n_1 = norm(x, sigma, m)\n",
    "delta = abs(n_0 - n_1)\n",
    "result = delta // sigma + 1"
   ]
  },
  {
   "cell_type": "code",
   "execution_count": 125,
   "id": "9613f5c4-40ea-4353-aac9-26bb99f70369",
   "metadata": {},
   "outputs": [
    {
     "name": "stdout",
     "output_type": "stream",
     "text": [
      "1.0\n"
     ]
    }
   ],
   "source": [
    "print(result)"
   ]
  },
  {
   "cell_type": "code",
   "execution_count": 126,
   "id": "6c9243c9-a155-42fe-9698-b22e9da2eb4a",
   "metadata": {},
   "outputs": [
    {
     "name": "stdout",
     "output_type": "stream",
     "text": [
      "2.4\n"
     ]
    }
   ],
   "source": [
    "print((190-178)/5)"
   ]
  },
  {
   "cell_type": "code",
   "execution_count": null,
   "id": "67e0d390-6d5a-407e-a654-3ef63b4e0eda",
   "metadata": {},
   "outputs": [],
   "source": []
  }
 ],
 "metadata": {
  "kernelspec": {
   "display_name": "Python 3 (ipykernel)",
   "language": "python",
   "name": "python3"
  },
  "language_info": {
   "codemirror_mode": {
    "name": "ipython",
    "version": 3
   },
   "file_extension": ".py",
   "mimetype": "text/x-python",
   "name": "python",
   "nbconvert_exporter": "python",
   "pygments_lexer": "ipython3",
   "version": "3.7.4"
  }
 },
 "nbformat": 4,
 "nbformat_minor": 5
}
